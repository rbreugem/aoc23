{
 "cells": [
  {
   "cell_type": "code",
   "execution_count": 60,
   "id": "b6aa2128-4423-457b-9ba1-0220c347ae95",
   "metadata": {},
   "outputs": [],
   "source": [
    "from collections import defaultdict, Counter, OrderedDict\n",
    "import numpy as np\n",
    "from copy import copy, deepcopy\n",
    "from itertools import groupby, permutations, product, combinations\n",
    "import json\n",
    "import matplotlib.pyplot as plt\n",
    "import numpy as np\n",
    "import math\n",
    "import re\n",
    "from time import sleep, time\n"
   ]
  },
  {
   "cell_type": "code",
   "execution_count": 62,
   "id": "c4602410-0318-4052-af34-30c2395ac041",
   "metadata": {},
   "outputs": [
    {
     "data": {
      "text/plain": [
       "defaultdict(list, {})"
      ]
     },
     "execution_count": 62,
     "metadata": {},
     "output_type": "execute_result"
    }
   ],
   "source": [
    "defaultdict(list)"
   ]
  },
  {
   "cell_type": "markdown",
   "id": "79e4e4dd-26c1-40db-bfc6-b9836c5d02dd",
   "metadata": {},
   "source": [
    "# DATA"
   ]
  },
  {
   "cell_type": "code",
   "execution_count": 1,
   "id": "c5583ad6-7152-4b13-811f-3428022a1da8",
   "metadata": {},
   "outputs": [],
   "source": [
    "f = open(\"inputs/aoc15.txt\").read()"
   ]
  },
  {
   "cell_type": "code",
   "execution_count": 2,
   "id": "978ed93f-1e26-44e7-8f67-43f51d9be306",
   "metadata": {},
   "outputs": [],
   "source": [
    "test_f = \"\"\"rn=1,cm-,qp=3,cm=2,qp-,pc=4,ot=9,ab=5,pc-,pc=6,ot=7\n",
    "\"\"\""
   ]
  },
  {
   "cell_type": "code",
   "execution_count": 19,
   "id": "f5a5982e-7c79-4cd5-af4d-86e31700871b",
   "metadata": {},
   "outputs": [],
   "source": [
    "def hash(word):    \n",
    "    current_value = 0\n",
    "    for char in list(word):\n",
    "        asci = ord(char)\n",
    "        current_value += asci\n",
    "        current_value *= 17\n",
    "        current_value %=256\n",
    "    return current_value\n",
    "    "
   ]
  },
  {
   "cell_type": "code",
   "execution_count": 137,
   "id": "a3e4a50b-d4ca-4c1e-9810-04fc2873e8ea",
   "metadata": {},
   "outputs": [
    {
     "data": {
      "text/plain": [
       "3"
      ]
     },
     "execution_count": 137,
     "metadata": {},
     "output_type": "execute_result"
    }
   ],
   "source": [
    "hash(\"ot\")"
   ]
  },
  {
   "cell_type": "code",
   "execution_count": 142,
   "id": "3c43cc04-5368-4803-b637-fcb6236cb539",
   "metadata": {},
   "outputs": [],
   "source": [
    "class P:\n",
    "    \n",
    "    def __init__(self):\n",
    "        self.results = []\n",
    "        self.boxes = defaultdict(list)\n",
    "\n",
    "    def load_data(self,f):\n",
    "        self.f = f.split(\",\")  \n",
    "    \n",
    "    def parse(self, boxcode):\n",
    "        \n",
    "        if \"=\" in boxcode:\n",
    "            split = boxcode.split(\"=\")\n",
    "            action = \"=\"\n",
    "            lens_label = split[0]\n",
    "            if len(split)==2:\n",
    "                focal = int(split[1])\n",
    "            else:\n",
    "                focal = None\n",
    "        if \"-\" in boxcode:\n",
    "            split = boxcode.split(\"-\")\n",
    "            action = \"-\"\n",
    "            lens_label = split[0]\n",
    "            if len(split)==1:\n",
    "                focal = int(split[1])\n",
    "            else:\n",
    "                focal = None\n",
    "        return lens_label, action, focal\n",
    "    \n",
    "    def replace_lens(self, lens, box_number):\n",
    "        if box_number in self.boxes:\n",
    "            box = self.boxes[box_number]\n",
    "            lens_labels_in_box = [l['label'] for l in box]\n",
    "            try:\n",
    "                lens_idx = lens_labels_in_box.index(lens['label'])\n",
    "                box[lens_idx]=lens\n",
    "            except:\n",
    "                box.append(lens)\n",
    "        else:\n",
    "            self.boxes[box_number].append(lens)\n",
    "            \n",
    "    \n",
    "    def pop_lens(self, lens, box_number):\n",
    "        if box_number in self.boxes:\n",
    "            box = self.boxes[box_number]\n",
    "            lens_labels_in_box = [l['label'] for l in box]\n",
    "            try:\n",
    "                lens_idx = lens_labels_in_box.index(lens['label'])\n",
    "                box.pop(lens_idx)\n",
    "            except:\n",
    "                pass\n",
    "    \n",
    "    def run(self):\n",
    "        som=0\n",
    "        for bc in self.f:\n",
    "            som+=hash(bc)\n",
    "        return som\n",
    "            \n",
    "    \n",
    "    def put_in_boxes(self):\n",
    "        for bc in self.f:\n",
    "            lens_label, action, focal = self.parse(bc)\n",
    "            box_number = hash(lens_label)\n",
    "            if action==\"=\":\n",
    "                lens = {\"label\":lens_label,\"focal\":focal}\n",
    "                self.replace_lens(lens,box_number=box_number)\n",
    "            if action==\"-\":\n",
    "                lens = {\"label\":lens_label,\"focal\":focal}\n",
    "                self.pop_lens(lens,box_number=box_number)\n",
    "        p.boxes = sorted(p.boxes.items())\n",
    "    \n",
    "    def compute(self):\n",
    "        som = 0\n",
    "        for _, box in enumerate(self.boxes):\n",
    "            box_id = box[0]\n",
    "            for slot,lens in enumerate(box[1]):\n",
    "                \n",
    "                value = (1+box_id)*(slot+1)*lens[\"focal\"]\n",
    "                print(box_id, slot,lens, value)\n",
    "                som = som + value\n",
    "        return som\n",
    "                "
   ]
  },
  {
   "cell_type": "markdown",
   "id": "9b0f0c68-5395-4399-9b9e-a0d5c9fb9a16",
   "metadata": {},
   "source": [
    "# Part 1"
   ]
  },
  {
   "cell_type": "code",
   "execution_count": 143,
   "id": "0d8ed071-4023-4135-80dc-69a0a3b4fbd3",
   "metadata": {},
   "outputs": [
    {
     "data": {
      "text/plain": [
       "516657"
      ]
     },
     "execution_count": 143,
     "metadata": {},
     "output_type": "execute_result"
    }
   ],
   "source": [
    "p = P()\n",
    "p.load_data(f)\n",
    "p.run()"
   ]
  },
  {
   "cell_type": "markdown",
   "id": "37168183-7257-49ed-bcc1-5b2fff2b4c23",
   "metadata": {},
   "source": [
    "# Part 2"
   ]
  },
  {
   "cell_type": "code",
   "execution_count": 144,
   "id": "e8c03283-e07a-4ebd-8cf8-064d03633f83",
   "metadata": {},
   "outputs": [
    {
     "name": "stdout",
     "output_type": "stream",
     "text": [
      "0 0 {'label': 'rn', 'focal': 1} 1\n",
      "0 1 {'label': 'cm', 'focal': 2} 4\n",
      "3 0 {'label': 'ot', 'focal': 7} 28\n",
      "3 1 {'label': 'ab', 'focal': 5} 40\n",
      "3 2 {'label': 'pc', 'focal': 6} 72\n"
     ]
    },
    {
     "data": {
      "text/plain": [
       "145"
      ]
     },
     "execution_count": 144,
     "metadata": {},
     "output_type": "execute_result"
    }
   ],
   "source": [
    "p = P()\n",
    "p.load_data(test_f)\n",
    "p.put_in_boxes()\n",
    "p.compute()"
   ]
  },
  {
   "cell_type": "code",
   "execution_count": 146,
   "id": "d729e00a-15c1-4df4-8864-d6e0094ee8a6",
   "metadata": {},
   "outputs": [
    {
     "name": "stdout",
     "output_type": "stream",
     "text": [
      "0 0 {'label': 'rn', 'focal': 8} 8\n",
      "0 1 {'label': 'xkm', 'focal': 5} 10\n",
      "0 2 {'label': 'dblkrq', 'focal': 9} 27\n",
      "1 0 {'label': 'lbmf', 'focal': 5} 10\n",
      "2 0 {'label': 'pr', 'focal': 5} 15\n",
      "5 0 {'label': 'pgn', 'focal': 4} 24\n",
      "11 0 {'label': 'gdp', 'focal': 6} 72\n",
      "11 1 {'label': 'hs', 'focal': 2} 48\n",
      "12 0 {'label': 'vv', 'focal': 4} 52\n",
      "13 0 {'label': 'gf', 'focal': 7} 98\n",
      "14 0 {'label': 'fdd', 'focal': 6} 90\n",
      "16 0 {'label': 'mrq', 'focal': 5} 85\n",
      "16 1 {'label': 'dtx', 'focal': 7} 238\n",
      "18 0 {'label': 'qq', 'focal': 1} 19\n",
      "19 0 {'label': 'qb', 'focal': 7} 140\n",
      "20 0 {'label': 'slbc', 'focal': 4} 84\n",
      "27 0 {'label': 'ptxhg', 'focal': 6} 168\n",
      "28 0 {'label': 'ht', 'focal': 4} 116\n",
      "31 0 {'label': 'jvhvq', 'focal': 4} 128\n",
      "33 0 {'label': 'dm', 'focal': 9} 306\n",
      "34 0 {'label': 'rp', 'focal': 9} 315\n",
      "35 0 {'label': 'gnsk', 'focal': 5} 180\n",
      "35 1 {'label': 'ktt', 'focal': 5} 360\n",
      "36 0 {'label': 'xxt', 'focal': 5} 185\n",
      "36 1 {'label': 'bb', 'focal': 3} 222\n",
      "36 2 {'label': 'xpzb', 'focal': 7} 777\n",
      "36 3 {'label': 'pjj', 'focal': 4} 592\n",
      "37 0 {'label': 'fhmcg', 'focal': 5} 190\n",
      "38 0 {'label': 'nx', 'focal': 7} 273\n",
      "38 1 {'label': 'dpr', 'focal': 6} 468\n",
      "38 2 {'label': 'qkxb', 'focal': 3} 351\n",
      "39 0 {'label': 'zcj', 'focal': 3} 120\n",
      "40 0 {'label': 'bcs', 'focal': 2} 82\n",
      "43 0 {'label': 'kms', 'focal': 9} 396\n",
      "43 1 {'label': 'llclt', 'focal': 4} 352\n",
      "48 0 {'label': 'gbg', 'focal': 9} 441\n",
      "50 0 {'label': 'bzlj', 'focal': 1} 51\n",
      "51 0 {'label': 'nkqcv', 'focal': 3} 156\n",
      "55 0 {'label': 'lrxq', 'focal': 9} 504\n",
      "56 0 {'label': 'crc', 'focal': 8} 456\n",
      "57 0 {'label': 'rcd', 'focal': 1} 58\n",
      "58 0 {'label': 'ln', 'focal': 5} 295\n",
      "58 1 {'label': 'nxt', 'focal': 5} 590\n",
      "59 0 {'label': 'bqh', 'focal': 6} 360\n",
      "59 1 {'label': 'lls', 'focal': 3} 360\n",
      "60 0 {'label': 'prz', 'focal': 5} 305\n",
      "61 0 {'label': 'nvfc', 'focal': 7} 434\n",
      "62 0 {'label': 'xf', 'focal': 3} 189\n",
      "62 1 {'label': 'bnn', 'focal': 4} 504\n",
      "64 0 {'label': 'hgdm', 'focal': 9} 585\n",
      "64 1 {'label': 'fz', 'focal': 3} 390\n",
      "65 0 {'label': 'fcx', 'focal': 3} 198\n",
      "65 1 {'label': 'rkd', 'focal': 7} 924\n",
      "66 0 {'label': 'tn', 'focal': 3} 201\n",
      "67 0 {'label': 'zfkx', 'focal': 8} 544\n",
      "67 1 {'label': 'mqxgv', 'focal': 3} 408\n",
      "68 0 {'label': 'mcd', 'focal': 4} 276\n",
      "69 0 {'label': 'bs', 'focal': 7} 490\n",
      "70 0 {'label': 'ssp', 'focal': 9} 639\n",
      "71 0 {'label': 'cfnp', 'focal': 2} 144\n",
      "71 1 {'label': 'pg', 'focal': 1} 144\n",
      "77 0 {'label': 'fcfn', 'focal': 2} 156\n",
      "78 0 {'label': 'jd', 'focal': 1} 79\n",
      "79 0 {'label': 'nmptp', 'focal': 8} 640\n",
      "80 0 {'label': 'nqnc', 'focal': 4} 324\n",
      "80 1 {'label': 'hh', 'focal': 7} 1134\n",
      "81 0 {'label': 'fzzvq', 'focal': 5} 410\n",
      "82 0 {'label': 'zmsssr', 'focal': 5} 415\n",
      "84 0 {'label': 'bjh', 'focal': 1} 85\n",
      "85 0 {'label': 'sb', 'focal': 4} 344\n",
      "86 0 {'label': 'pkk', 'focal': 6} 522\n",
      "86 1 {'label': 'bt', 'focal': 7} 1218\n",
      "86 2 {'label': 'lvdp', 'focal': 6} 1566\n",
      "87 0 {'label': 'tmjbj', 'focal': 1} 88\n",
      "88 0 {'label': 'ph', 'focal': 3} 267\n",
      "89 0 {'label': 'csc', 'focal': 6} 540\n",
      "91 0 {'label': 'cbf', 'focal': 1} 92\n",
      "92 0 {'label': 'jbp', 'focal': 3} 279\n",
      "94 0 {'label': 'llf', 'focal': 2} 190\n",
      "94 1 {'label': 'jt', 'focal': 6} 1140\n",
      "95 0 {'label': 'xcd', 'focal': 7} 672\n",
      "96 0 {'label': 'xh', 'focal': 3} 291\n",
      "98 0 {'label': 'dxf', 'focal': 3} 297\n",
      "98 1 {'label': 'fdx', 'focal': 6} 1188\n",
      "98 2 {'label': 'vl', 'focal': 9} 2673\n",
      "98 3 {'label': 'vdbccp', 'focal': 6} 2376\n",
      "99 0 {'label': 'ftnk', 'focal': 1} 100\n",
      "99 1 {'label': 'fm', 'focal': 6} 1200\n",
      "101 0 {'label': 'nsfgvq', 'focal': 5} 510\n",
      "102 0 {'label': 'lxpr', 'focal': 2} 206\n",
      "102 1 {'label': 'tdn', 'focal': 3} 618\n",
      "102 2 {'label': 'sc', 'focal': 7} 2163\n",
      "103 0 {'label': 'lrfkx', 'focal': 2} 208\n",
      "104 0 {'label': 'rfp', 'focal': 6} 630\n",
      "104 1 {'label': 'vnlrf', 'focal': 9} 1890\n",
      "104 2 {'label': 'bf', 'focal': 3} 945\n",
      "106 0 {'label': 'mtqx', 'focal': 4} 428\n",
      "106 1 {'label': 'tbqs', 'focal': 5} 1070\n",
      "107 0 {'label': 'sqg', 'focal': 7} 756\n",
      "107 1 {'label': 'rcv', 'focal': 4} 864\n",
      "108 0 {'label': 'hvn', 'focal': 2} 218\n",
      "110 0 {'label': 'ks', 'focal': 5} 555\n",
      "114 0 {'label': 'lpfp', 'focal': 4} 460\n",
      "114 1 {'label': 'hj', 'focal': 1} 230\n",
      "115 0 {'label': 'rkv', 'focal': 3} 348\n",
      "117 0 {'label': 'rkkm', 'focal': 9} 1062\n",
      "119 0 {'label': 'ct', 'focal': 5} 600\n",
      "119 1 {'label': 'dc', 'focal': 6} 1440\n",
      "119 2 {'label': 'bxm', 'focal': 2} 720\n",
      "121 0 {'label': 'bg', 'focal': 8} 976\n",
      "122 0 {'label': 'pj', 'focal': 2} 246\n",
      "123 0 {'label': 'qft', 'focal': 7} 868\n",
      "124 0 {'label': 'cqx', 'focal': 9} 1125\n",
      "124 1 {'label': 'nn', 'focal': 5} 1250\n",
      "127 0 {'label': 'mjx', 'focal': 2} 256\n",
      "128 0 {'label': 'pqkd', 'focal': 7} 903\n",
      "128 1 {'label': 'zf', 'focal': 6} 1548\n",
      "129 0 {'label': 'klz', 'focal': 2} 260\n",
      "129 1 {'label': 'gtv', 'focal': 1} 260\n",
      "132 0 {'label': 'gm', 'focal': 3} 399\n",
      "132 1 {'label': 'dhx', 'focal': 9} 2394\n",
      "133 0 {'label': 'fdk', 'focal': 7} 938\n",
      "135 0 {'label': 'tc', 'focal': 1} 136\n",
      "135 1 {'label': 'ds', 'focal': 2} 544\n",
      "137 0 {'label': 'rqlj', 'focal': 8} 1104\n",
      "137 1 {'label': 'pmjr', 'focal': 4} 1104\n",
      "139 0 {'label': 'cpbppv', 'focal': 8} 1120\n",
      "140 0 {'label': 'xztdb', 'focal': 8} 1128\n",
      "142 0 {'label': 'fzn', 'focal': 5} 715\n",
      "143 0 {'label': 'jdjg', 'focal': 7} 1008\n",
      "143 1 {'label': 'ls', 'focal': 9} 2592\n",
      "145 0 {'label': 'vhc', 'focal': 8} 1168\n",
      "146 0 {'label': 'xz', 'focal': 4} 588\n",
      "148 0 {'label': 'hl', 'focal': 8} 1192\n",
      "149 0 {'label': 'gck', 'focal': 2} 300\n",
      "151 0 {'label': 'nrg', 'focal': 4} 608\n",
      "152 0 {'label': 'jxv', 'focal': 5} 765\n",
      "153 0 {'label': 'cv', 'focal': 2} 308\n",
      "154 0 {'label': 'hlf', 'focal': 6} 930\n",
      "155 0 {'label': 'qj', 'focal': 1} 156\n",
      "158 0 {'label': 'kqr', 'focal': 6} 954\n",
      "159 0 {'label': 'mr', 'focal': 9} 1440\n",
      "160 0 {'label': 'tncqjp', 'focal': 3} 483\n",
      "161 0 {'label': 'kv', 'focal': 4} 648\n",
      "161 1 {'label': 'lmh', 'focal': 2} 648\n",
      "164 0 {'label': 'bnt', 'focal': 9} 1485\n",
      "169 0 {'label': 'hgpz', 'focal': 7} 1190\n",
      "170 0 {'label': 'cvq', 'focal': 2} 342\n",
      "170 1 {'label': 'zvz', 'focal': 1} 342\n",
      "170 2 {'label': 'rx', 'focal': 1} 513\n",
      "171 0 {'label': 'pzq', 'focal': 2} 344\n",
      "171 1 {'label': 'ch', 'focal': 9} 3096\n",
      "172 0 {'label': 'blgg', 'focal': 3} 519\n",
      "172 1 {'label': 'ddd', 'focal': 7} 2422\n",
      "174 0 {'label': 'sqz', 'focal': 1} 175\n",
      "176 0 {'label': 'tznt', 'focal': 3} 531\n",
      "176 1 {'label': 'qxcgvg', 'focal': 2} 708\n",
      "177 0 {'label': 'qdl', 'focal': 1} 178\n",
      "180 0 {'label': 'jnrj', 'focal': 8} 1448\n",
      "181 0 {'label': 'hbpk', 'focal': 4} 728\n",
      "182 0 {'label': 'fqgh', 'focal': 2} 366\n",
      "184 0 {'label': 'fpvl', 'focal': 7} 1295\n",
      "185 0 {'label': 'fc', 'focal': 8} 1488\n",
      "185 1 {'label': 'ddtm', 'focal': 8} 2976\n",
      "185 2 {'label': 'zgkm', 'focal': 3} 1674\n",
      "186 0 {'label': 'tf', 'focal': 4} 748\n",
      "187 0 {'label': 'sh', 'focal': 6} 1128\n",
      "187 1 {'label': 'dg', 'focal': 3} 1128\n",
      "188 0 {'label': 'rj', 'focal': 1} 189\n",
      "189 0 {'label': 'pnxcd', 'focal': 8} 1520\n",
      "191 0 {'label': 'dhvm', 'focal': 2} 384\n",
      "193 0 {'label': 'fzq', 'focal': 8} 1552\n",
      "194 0 {'label': 'jppx', 'focal': 5} 975\n",
      "195 0 {'label': 'kx', 'focal': 8} 1568\n",
      "196 0 {'label': 'htmk', 'focal': 2} 394\n",
      "196 1 {'label': 'fxf', 'focal': 4} 1576\n",
      "197 0 {'label': 'jdvq', 'focal': 3} 594\n",
      "197 1 {'label': 'vgh', 'focal': 9} 3564\n",
      "199 0 {'label': 'pssq', 'focal': 7} 1400\n",
      "200 0 {'label': 'vr', 'focal': 6} 1206\n",
      "201 0 {'label': 'vc', 'focal': 9} 1818\n",
      "204 0 {'label': 'dh', 'focal': 6} 1230\n",
      "204 1 {'label': 'dfb', 'focal': 9} 3690\n",
      "206 0 {'label': 'hkk', 'focal': 8} 1656\n",
      "208 0 {'label': 'kcr', 'focal': 2} 418\n",
      "208 1 {'label': 'ztb', 'focal': 6} 2508\n",
      "208 2 {'label': 'nlv', 'focal': 6} 3762\n",
      "211 0 {'label': 'fkb', 'focal': 8} 1696\n",
      "211 1 {'label': 'flfk', 'focal': 7} 2968\n",
      "213 0 {'label': 'kj', 'focal': 5} 1070\n",
      "214 0 {'label': 'ckjtz', 'focal': 8} 1720\n",
      "214 1 {'label': 'kmn', 'focal': 8} 3440\n",
      "216 0 {'label': 'hp', 'focal': 3} 651\n",
      "218 0 {'label': 'ft', 'focal': 3} 657\n",
      "218 1 {'label': 'vd', 'focal': 4} 1752\n",
      "219 0 {'label': 'bkn', 'focal': 8} 1760\n",
      "220 0 {'label': 'vpv', 'focal': 3} 663\n",
      "223 0 {'label': 'mnqc', 'focal': 8} 1792\n",
      "224 0 {'label': 'ktjg', 'focal': 3} 675\n",
      "226 0 {'label': 'xhb', 'focal': 6} 1362\n",
      "226 1 {'label': 'nt', 'focal': 9} 4086\n",
      "227 0 {'label': 'xgd', 'focal': 6} 1368\n",
      "227 1 {'label': 'mv', 'focal': 8} 3648\n",
      "229 0 {'label': 'bqr', 'focal': 4} 920\n",
      "229 1 {'label': 'kzxh', 'focal': 1} 460\n",
      "231 0 {'label': 'qpv', 'focal': 3} 696\n",
      "232 0 {'label': 'drzx', 'focal': 3} 699\n",
      "232 1 {'label': 'zxssjv', 'focal': 6} 2796\n",
      "234 0 {'label': 'ppj', 'focal': 5} 1175\n",
      "235 0 {'label': 'gd', 'focal': 8} 1888\n",
      "236 0 {'label': 'tx', 'focal': 3} 711\n",
      "237 0 {'label': 'dfs', 'focal': 6} 1428\n",
      "238 0 {'label': 'xlj', 'focal': 3} 717\n",
      "239 0 {'label': 'jbsp', 'focal': 1} 240\n",
      "239 1 {'label': 'kfn', 'focal': 2} 960\n",
      "240 0 {'label': 'xdckv', 'focal': 2} 482\n",
      "242 0 {'label': 'tpn', 'focal': 9} 2187\n",
      "242 1 {'label': 'qgj', 'focal': 8} 3888\n",
      "243 0 {'label': 'ccsj', 'focal': 6} 1464\n",
      "243 1 {'label': 'mnh', 'focal': 7} 3416\n",
      "245 0 {'label': 'ghv', 'focal': 8} 1968\n",
      "245 1 {'label': 'cpjjqm', 'focal': 5} 2460\n",
      "246 0 {'label': 'lj', 'focal': 4} 988\n",
      "246 1 {'label': 'vhx', 'focal': 6} 2964\n",
      "246 2 {'label': 'htxzkm', 'focal': 8} 5928\n",
      "247 0 {'label': 'qrd', 'focal': 1} 248\n",
      "249 0 {'label': 'fxjjmz', 'focal': 5} 1250\n",
      "250 0 {'label': 'hr', 'focal': 4} 1004\n",
      "251 0 {'label': 'hxmpn', 'focal': 4} 1008\n",
      "252 0 {'label': 'zjx', 'focal': 1} 253\n",
      "253 0 {'label': 'gprt', 'focal': 5} 1270\n",
      "254 0 {'label': 'gpg', 'focal': 6} 1530\n",
      "255 0 {'label': 'jxm', 'focal': 1} 256\n"
     ]
    },
    {
     "data": {
      "text/plain": [
       "210906"
      ]
     },
     "execution_count": 146,
     "metadata": {},
     "output_type": "execute_result"
    }
   ],
   "source": [
    "p = P()\n",
    "p.load_data(f)\n",
    "p.put_in_boxes()\n",
    "p.compute()"
   ]
  },
  {
   "cell_type": "code",
   "execution_count": null,
   "id": "e0bc4cce-44ea-4b72-ab05-58ac4a6ebc9a",
   "metadata": {},
   "outputs": [],
   "source": []
  }
 ],
 "metadata": {
  "kernelspec": {
   "display_name": "Python 3 (ipykernel)",
   "language": "python",
   "name": "python3"
  },
  "language_info": {
   "codemirror_mode": {
    "name": "ipython",
    "version": 3
   },
   "file_extension": ".py",
   "mimetype": "text/x-python",
   "name": "python",
   "nbconvert_exporter": "python",
   "pygments_lexer": "ipython3",
   "version": "3.11.0"
  }
 },
 "nbformat": 4,
 "nbformat_minor": 5
}
