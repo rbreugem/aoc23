{
 "cells": [
  {
   "cell_type": "code",
   "execution_count": 29,
   "id": "b6aa2128-4423-457b-9ba1-0220c347ae95",
   "metadata": {},
   "outputs": [],
   "source": [
    "from collections import defaultdict"
   ]
  },
  {
   "cell_type": "code",
   "execution_count": null,
   "id": "66fe7080-19e5-4286-aef6-7cab08f4c9f5",
   "metadata": {},
   "outputs": [],
   "source": [
    "f = open(\"inputs/aoc5.txt\").read()"
   ]
  },
  {
   "cell_type": "code",
   "execution_count": 77,
   "id": "3e6e3e80-100a-4f0b-994b-01ae2f5ed65e",
   "metadata": {},
   "outputs": [],
   "source": [
    "# time, distance\n",
    "race = {}\n",
    "race[1]=(41,244)\n",
    "race[2]=(66,1047)\n",
    "race[3]=(72,1228)\n",
    "race[4]=(66,1040)"
   ]
  },
  {
   "cell_type": "code",
   "execution_count": 56,
   "id": "de9b614a-f691-44da-a15e-e13a9ffcdd4e",
   "metadata": {},
   "outputs": [],
   "source": [
    "def acceleration(holding_time):\n",
    "    return holding_time"
   ]
  },
  {
   "cell_type": "code",
   "execution_count": 72,
   "id": "300e72cf-643f-4255-8469-9e028203e4f7",
   "metadata": {},
   "outputs": [],
   "source": [
    "def total_travel(holding_time, total_time):\n",
    "    assert total_time>=holding_time\n",
    "    travel_time = total_time - holding_time\n",
    "    v = holding_time\n",
    "    dist = v*travel_time\n",
    "    return dist"
   ]
  },
  {
   "cell_type": "code",
   "execution_count": 73,
   "id": "df7848c7-a0da-4e6c-8696-5c7f53bd2be9",
   "metadata": {},
   "outputs": [
    {
     "data": {
      "text/plain": [
       "2"
      ]
     },
     "execution_count": 73,
     "metadata": {},
     "output_type": "execute_result"
    }
   ],
   "source": [
    "total_travel(holding_time=2, total_time = 3)"
   ]
  },
  {
   "cell_type": "code",
   "execution_count": 87,
   "id": "1074c426-f7c9-4878-95d8-a8938452349a",
   "metadata": {},
   "outputs": [],
   "source": [
    "def compute(data):\n",
    "\n",
    "    race_count = defaultdict(int)\n",
    "\n",
    "    for race_num, race_data in data.items():\n",
    "        \n",
    "        total_time = race_data[0]\n",
    "        target_distance = race_data[1]\n",
    "        #print(total_time, target_distance)\n",
    "\n",
    "        for holding_time in range(1,total_time):\n",
    "            distance = total_travel(holding_time, total_time)\n",
    "            #print(\"Holding time: \" , holding_time, \"  Total time:\", total_time, \"  Distance:\", distance)\n",
    "            if distance > target_distance:\n",
    "                race_count[race_num]+=1        \n",
    "    \n",
    "    return race_count, np.prod([v for v in race_count.values()])"
   ]
  },
  {
   "cell_type": "code",
   "execution_count": 88,
   "id": "a0ca2446-a400-46b7-a83f-aedea5ec97b7",
   "metadata": {},
   "outputs": [],
   "source": [
    "# time, distance\n",
    "test_race = {}\n",
    "test_race[1]=(7,9)\n",
    "test_race[2]=(15,40)\n",
    "test_race[3]=(30,200)"
   ]
  },
  {
   "cell_type": "code",
   "execution_count": 89,
   "id": "ac7f25ff-9b12-4511-9749-425dbb244ef1",
   "metadata": {},
   "outputs": [],
   "source": [
    "#compute(test_race)"
   ]
  },
  {
   "cell_type": "code",
   "execution_count": 90,
   "id": "65579e59-ba4a-4314-8fd2-823e954fbc44",
   "metadata": {},
   "outputs": [],
   "source": [
    "#compute(race)"
   ]
  },
  {
   "cell_type": "markdown",
   "id": "f519d54d-8491-4da6-8cd9-5ac94992aa10",
   "metadata": {},
   "source": [
    "# PART 2"
   ]
  },
  {
   "cell_type": "code",
   "execution_count": 91,
   "id": "ac90d74c-c45d-499c-8785-c022f1e305c6",
   "metadata": {},
   "outputs": [],
   "source": [
    "# time, distance\n",
    "race = {}\n",
    "race[1]=(41667266,244104712281040)"
   ]
  },
  {
   "cell_type": "code",
   "execution_count": 92,
   "id": "970a144a-6d4d-4125-be9f-552ee4f00af4",
   "metadata": {},
   "outputs": [
    {
     "data": {
      "text/plain": [
       "(defaultdict(int, {1: 27563421}), 27563421)"
      ]
     },
     "execution_count": 92,
     "metadata": {},
     "output_type": "execute_result"
    }
   ],
   "source": [
    "compute(race)"
   ]
  },
  {
   "cell_type": "code",
   "execution_count": null,
   "id": "4b878e9a-4323-4708-810f-644599dc8564",
   "metadata": {},
   "outputs": [],
   "source": []
  }
 ],
 "metadata": {
  "kernelspec": {
   "display_name": "Python 3 (ipykernel)",
   "language": "python",
   "name": "python3"
  },
  "language_info": {
   "codemirror_mode": {
    "name": "ipython",
    "version": 3
   },
   "file_extension": ".py",
   "mimetype": "text/x-python",
   "name": "python",
   "nbconvert_exporter": "python",
   "pygments_lexer": "ipython3",
   "version": "3.11.0"
  }
 },
 "nbformat": 4,
 "nbformat_minor": 5
}
