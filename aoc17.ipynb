{
 "cells": [
  {
   "cell_type": "code",
   "execution_count": 12,
   "id": "b6aa2128-4423-457b-9ba1-0220c347ae95",
   "metadata": {},
   "outputs": [],
   "source": [
    "from collections import defaultdict, Counter, OrderedDict\n",
    "import numpy as np\n",
    "from copy import copy, deepcopy\n",
    "from itertools import groupby, permutations, product, combinations\n",
    "import json\n",
    "import matplotlib.pyplot as plt\n",
    "import numpy as np\n",
    "import math\n",
    "import re\n",
    "from time import sleep, time\n",
    "from matplotlib import pyplot as plt\n",
    "from matplotlib import colors\n",
    "import sys\n",
    "from collections import deque\n",
    "import heapq"
   ]
  },
  {
   "cell_type": "markdown",
   "id": "79e4e4dd-26c1-40db-bfc6-b9836c5d02dd",
   "metadata": {},
   "source": [
    "# DATA"
   ]
  },
  {
   "cell_type": "code",
   "execution_count": 2,
   "id": "c5583ad6-7152-4b13-811f-3428022a1da8",
   "metadata": {},
   "outputs": [],
   "source": [
    "f = open(\"inputs/aoc17.txt\").read().splitlines()"
   ]
  },
  {
   "cell_type": "code",
   "execution_count": 3,
   "id": "6aeb4edd-1916-4da3-af94-4bb450fa1ad8",
   "metadata": {},
   "outputs": [],
   "source": [
    "m = 4"
   ]
  },
  {
   "cell_type": "code",
   "execution_count": 118,
   "id": "978ed93f-1e26-44e7-8f67-43f51d9be306",
   "metadata": {},
   "outputs": [],
   "source": [
    "text_input = r\"\"\"2413432311323\n",
    "3215453535623\n",
    "3255245654254\n",
    "3446585845452\n",
    "4546657867536\n",
    "1438598798454\n",
    "4457876987766\n",
    "3637877979653\n",
    "4654967986887\n",
    "4564679986453\n",
    "1224686865563\n",
    "2546548887735\n",
    "4322674655533\n",
    "\"\"\"\n",
    "\n",
    "test = [list(l) for l in text_input.splitlines()]"
   ]
  },
  {
   "cell_type": "code",
   "execution_count": 119,
   "id": "13b2b0a5-de78-4cf5-8347-48b382c2d671",
   "metadata": {},
   "outputs": [],
   "source": []
  },
  {
   "cell_type": "code",
   "execution_count": 120,
   "id": "59f0bb3c-3d60-450a-86f7-680d14f0b12e",
   "metadata": {},
   "outputs": [],
   "source": []
  },
  {
   "cell_type": "code",
   "execution_count": 202,
   "id": "3c43cc04-5368-4803-b637-fcb6236cb539",
   "metadata": {},
   "outputs": [],
   "source": [
    "def get_direction(from_node, to_node):\n",
    "    dx = to_node[0]-from_node[0]\n",
    "    dy = to_node[1]-from_node[1]\n",
    "    return (dx,dy)\n",
    "\n",
    "def last_directions(l):\n",
    "    \n",
    "    directions = []\n",
    "    for i,c in enumerate(l[0:len(l)-1]):\n",
    "    \n",
    "        directions.append(get_direction(l[i+1],l[i]))\n",
    "    return directions\n",
    "\n",
    "class P:\n",
    "    \n",
    "    def __init__(self):\n",
    "        self.results = []\n",
    "        self.counter = 0\n",
    "        self.directions = []\n",
    "        self.size = 4\n",
    "        self.steps_in_same_direction = 0\n",
    "    \n",
    "    def create_graph(self,text):\n",
    "        \n",
    "        temp = [list(line) for line in text]\n",
    "        temp = np.array(temp).astype(int)\n",
    "        self.heat_loss = temp\n",
    "                          \n",
    "        self.max_x = len(text)\n",
    "        self.max_y = len(text[0])\n",
    "        self.rows = self.max_y+1\n",
    "        self.cols = self.max_x+1\n",
    "        \n",
    "        nodes = []\n",
    "        for y,line in enumerate(text):\n",
    "            for x,cost in enumerate(line):\n",
    "                nodes.append({\"coord\":(x,y),\"cost\":cost})\n",
    "        self.nodes=nodes\n",
    "        graph = defaultdict(dict)\n",
    "        \n",
    "        for node in nodes:\n",
    "            x, y = node['coord']\n",
    "            cost = node['cost']\n",
    "            neighbors = []\n",
    "\n",
    "            # Check and add north neighbor\n",
    "            if y > 0:\n",
    "                neighbors.append((x, y - 1))\n",
    "            # Check and add west neighbor\n",
    "            if x > 0:\n",
    "                neighbors.append((x - 1, y))\n",
    "            # Check and add east neighbor\n",
    "            if x < max(coord['coord'][0] for coord in nodes):\n",
    "                neighbors.append((x + 1, y))\n",
    "            # Check and add south neighbor\n",
    "            if y < max(coord['coord'][1] for coord in nodes):\n",
    "                neighbors.append((x, y + 1))\n",
    "\n",
    "            # Add edges to the graph\n",
    "            graph[node['coord']]={'neighbours':neighbors,'cost':int(cost)}\n",
    "\n",
    "        self.graph = graph\n",
    "        \n",
    "    def last_three_same_as_first(self,list):\n",
    "        res = False\n",
    "        if len(list)>=3:\n",
    "            res = all(i==list[0] for i in list)\n",
    "        return res\n",
    "        \n",
    "    \n",
    "    def compute_cost(self, current_min_node, neighbor):\n",
    "        path_to_current_min_node = self.generate_path(current_min_node)\n",
    "        directions = last_directions(path_to_current_min_node)\n",
    "        \n",
    "        new_direction = get_direction(from_node=current_min_node, to_node=neighbor)\n",
    "        \n",
    "        directions.insert(0,new_direction)\n",
    "        \n",
    "        last_three_same = self.last_three_same_as_first(directions[0:3])\n",
    "        if last_three_same:\n",
    "            cost = 1000000000000000000\n",
    "        elif neighbor==path_to_current_min_node[-1]:\n",
    "            cost = 1000000000000000000\n",
    "        else:\n",
    "            cost = self.graph[neighbor]['cost']\n",
    "\n",
    "        return cost\n",
    "\n",
    "    def opposite_direction(self, direction):\n",
    "        return (-1*direction[0], -1*direction[1])\n",
    "                    \n",
    "                \n",
    "    def dijkstra_algorithm(self,start_node=(0,0)):\n",
    "        graph=self.graph\n",
    "        unvisited_nodes = list(graph.keys())\n",
    "\n",
    "        # We'll use this dict to save the cost of visiting each node and update it as we move along the graph   \n",
    "        self.shortest_path = {}\n",
    "\n",
    "        # We'll use this dict to save the shortest known path to a node found so far\n",
    "        self.previous_nodes = {}\n",
    "\n",
    "        # We'll use max_value to initialize the \"infinity\" value of the unvisited nodes   \n",
    "        max_value = sys.maxsize\n",
    "        for node in unvisited_nodes:\n",
    "            self.shortest_path[node] = max_value\n",
    "            \n",
    "        # However, we initialize the starting node's value with 0   \n",
    "        self.shortest_path[start_node] = 0\n",
    "\n",
    "        # The algorithm executes until we visit all nodes\n",
    "        while unvisited_nodes:\n",
    "            \n",
    "            # The code block below finds the node with the lowest score\n",
    "            current_min_node = None\n",
    "            for node in unvisited_nodes: # Iterate over the nodes\n",
    "                if current_min_node == None:\n",
    "                    current_min_node = node\n",
    "                elif self.shortest_path[node] < self.shortest_path[current_min_node]:\n",
    "                    current_min_node = node\n",
    "            \n",
    "            # print(\"------\")\n",
    "            # The code block below retrieves the current node's neighbors and updates their distances\n",
    "            neighbors = graph[current_min_node]['neighbours']\n",
    "\n",
    "            for neighbor in neighbors:   \n",
    "                current_min_cost = self.shortest_path[current_min_node] \n",
    "                tentative_value = current_min_cost + self.compute_cost(current_min_node,neighbor)\n",
    "                # print(\"current_min_node\", current_min_node,\"ngh:\", neighbor,'tentativevalue',tentative_value)\n",
    "                \n",
    "                if tentative_value < self.shortest_path[neighbor]:\n",
    "                    self.shortest_path[neighbor] = tentative_value\n",
    "                    # We also update the best path to the current node\n",
    "                    self.previous_nodes[neighbor]=current_min_node\n",
    "\n",
    "            # After visiting its neighbors, we mark the node as \"visited\"\n",
    "            unvisited_nodes.remove(current_min_node)\n",
    "    \n",
    "    def generate_path(self,node):\n",
    "        nodes=[node]\n",
    "        new_node = node\n",
    "        while new_node != (0,0):\n",
    "            new_node = self.previous_nodes[new_node]\n",
    "            nodes.append(new_node)\n",
    "        return nodes\n",
    "    \n",
    "    def plot_costs(self):\n",
    "        plt.figure(figsize=(self.size,self.size))\n",
    "        plt.ylim(self.max_y,0)\n",
    "        a = np.ones((self.max_y, self.max_x))\n",
    "        cmap = colors.ListedColormap(['Blue','red'])\n",
    "        \n",
    "        plt.pcolor(a,cmap=cmap,edgecolors='k', linewidths=1)\n",
    "        \n",
    "        for x in range(self.max_x):\n",
    "            for y in range(self.max_y):\n",
    "                s=self.heat_loss[y,x]\n",
    "                plt.text(x+0.5,y+0.5,s,color='white', size=6)\n",
    "    \n",
    "    def plot_array(self,node):\n",
    "        \n",
    "        plt.figure(figsize=(self.size,self.size))\n",
    "        plt.ylim(self.max_y,0)\n",
    "        a = np.ones((self.max_y, self.max_x))\n",
    "        \n",
    "        shortest_path_coords = self.generate_path(node) \n",
    "        for i in shortest_path_coords:\n",
    "            a[i[1],i[0]]=0\n",
    "        \n",
    "        cmap = colors.ListedColormap(['Blue','red'])\n",
    "        \n",
    "        plt.pcolor(a,cmap=cmap,edgecolors='k', linewidths=1)\n",
    "        \n",
    "        for x in range(self.max_x):\n",
    "            for y in range(self.max_y):\n",
    "                s=self.shortest_path[(x,y)]\n",
    "                plt.text(x+0.5,y+0.5,s,color='white', size=6)\n",
    "        \n",
    "        plt.show()    \n",
    "    \n",
    "    def compute_loss(self, node):\n",
    "        som = 0\n",
    "        for c in p.generate_path(node)[:-1]:\n",
    "            som = som + p.heat_loss[c[1],c[0]]\n",
    "        return som"
   ]
  },
  {
   "cell_type": "markdown",
   "id": "9b0f0c68-5395-4399-9b9e-a0d5c9fb9a16",
   "metadata": {
    "tags": []
   },
   "source": [
    "# Part 1"
   ]
  },
  {
   "cell_type": "code",
   "execution_count": 197,
   "id": "e21c99b0-95a2-40ba-b316-22620b983ac5",
   "metadata": {},
   "outputs": [],
   "source": [
    "p = P()\n",
    "p.create_graph(test)"
   ]
  },
  {
   "cell_type": "code",
   "execution_count": 198,
   "id": "0d8ed071-4023-4135-80dc-69a0a3b4fbd3",
   "metadata": {},
   "outputs": [],
   "source": [
    "p.dijkstra_algorithm()"
   ]
  },
  {
   "cell_type": "code",
   "execution_count": 203,
   "id": "c6b87f21-d437-4d76-80ef-eae7c4822238",
   "metadata": {},
   "outputs": [
    {
     "data": {
      "image/png": "[encoded data removed]",
      "text/plain": [
       "<Figure size 400x400 with 1 Axes>"
      ]
     },
     "metadata": {},
     "output_type": "display_data"
    },
    {
     "data": {
      "image/png": "[encoded data removed]",
      "text/plain": [
       "<Figure size 400x400 with 1 Axes>"
      ]
     },
     "metadata": {},
     "output_type": "display_data"
    },
    {
     "data": {
      "text/plain": [
       "117"
      ]
     },
     "execution_count": 203,
     "metadata": {},
     "output_type": "execute_result"
    }
   ],
   "source": [
    "ec=(12,12)\n",
    "p.plot_costs()\n",
    "p.plot_array(ec)\n",
    "p.compute_loss(ec)"
   ]
  },
  {
   "cell_type": "markdown",
   "id": "37168183-7257-49ed-bcc1-5b2fff2b4c23",
   "metadata": {},
   "source": [
    "# Part 2"
   ]
  },
  {
   "cell_type": "code",
   "execution_count": null,
   "id": "547e6f2f-1bb7-4bb8-9b74-b57deba5f9df",
   "metadata": {},
   "outputs": [],
   "source": []
  }
 ],
 "metadata": {
  "kernelspec": {
   "display_name": "Python 3 (ipykernel)",
   "language": "python",
   "name": "python3"
  },
  "language_info": {
   "codemirror_mode": {
    "name": "ipython",
    "version": 3
   },
   "file_extension": ".py",
   "mimetype": "text/x-python",
   "name": "python",
   "nbconvert_exporter": "python",
   "pygments_lexer": "ipython3",
   "version": "3.11.0"
  }
 },
 "nbformat": 4,
 "nbformat_minor": 5
}
