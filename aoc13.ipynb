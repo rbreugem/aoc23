{
 "cells": [
  {
   "cell_type": "code",
   "execution_count": 1,
   "id": "b6aa2128-4423-457b-9ba1-0220c347ae95",
   "metadata": {},
   "outputs": [],
   "source": [
    "from collections import defaultdict, Counter, OrderedDict\n",
    "import numpy as np\n",
    "from copy import copy\n",
    "from itertools import groupby, permutations, product, combinations\n",
    "import json\n",
    "import matplotlib.pyplot as plt\n",
    "import numpy as np\n",
    "import math\n",
    "import re\n",
    "from time import sleep\n"
   ]
  },
  {
   "cell_type": "markdown",
   "id": "79e4e4dd-26c1-40db-bfc6-b9836c5d02dd",
   "metadata": {},
   "source": [
    "# DATA"
   ]
  },
  {
   "cell_type": "code",
   "execution_count": 2,
   "id": "c5583ad6-7152-4b13-811f-3428022a1da8",
   "metadata": {},
   "outputs": [],
   "source": [
    "f = open(\"inputs/aoc13.txt\").read()"
   ]
  },
  {
   "cell_type": "code",
   "execution_count": 33,
   "id": "c9f289ea-5f6a-4a49-b9fc-fbb083338134",
   "metadata": {},
   "outputs": [],
   "source": [
    "test_f = \"\"\"#.##..##.\n",
    "..#.##.#.\n",
    "##......#\n",
    "##......#\n",
    "..#.##.#.\n",
    "..##..##.\n",
    "#.#.##.#.\n",
    "\n",
    "#...##..#\n",
    "#....#..#\n",
    "..##..###\n",
    "#####.##.\n",
    "#####.##.\n",
    "..##..###\n",
    "#....#..#\n",
    "\"\"\""
   ]
  },
  {
   "cell_type": "code",
   "execution_count": 34,
   "id": "864c29a8-efe8-4a07-9827-4c1e16b52b74",
   "metadata": {},
   "outputs": [
    {
     "name": "stdout",
     "output_type": "stream",
     "text": [
      "#.##..##.\n",
      "..#.##.#.\n",
      "##......#\n",
      "##......#\n",
      "..#.##.#.\n",
      "..##..##.\n",
      "#.#.##.#.\n",
      "\n",
      "#...##..#\n",
      "#....#..#\n",
      "..##..###\n",
      "#####.##.\n",
      "#####.##.\n",
      "..##..###\n",
      "#....#..#\n",
      "\n"
     ]
    }
   ],
   "source": [
    "print(test_f)"
   ]
  },
  {
   "cell_type": "markdown",
   "id": "8270abf0-bb9b-4928-b9bc-817391c20e57",
   "metadata": {},
   "source": [
    "# Model"
   ]
  },
  {
   "cell_type": "code",
   "execution_count": 449,
   "id": "3c43cc04-5368-4803-b637-fcb6236cb539",
   "metadata": {},
   "outputs": [],
   "source": [
    "class P:\n",
    "    \n",
    "    def __init__(self):\n",
    "        self.results = []\n",
    "\n",
    "    def load_data(self,f):\n",
    "        self.f = f.splitlines()        \n",
    "        data = []\n",
    "        puzzle_splits = [i==\"\"  for i in self.f]\n",
    "        puzzle_counter = 0\n",
    "        puzzle_end = False\n",
    "        puzzles = []\n",
    "        at_end = False\n",
    "        i = 0\n",
    "        \n",
    "        puzzle_start_index = 0\n",
    "        puzzle_end_index = 0\n",
    "\n",
    "        while not at_end:\n",
    "            \n",
    "            if puzzle_splits[i]:\n",
    "                puzzle_end_index=i-1\n",
    "                puzzle = self.f[puzzle_start_index:puzzle_end_index+1]                \n",
    "                puzzles.append([list(l) for l in puzzle])\n",
    "                puzzle_start_index=puzzle_end_index+2\n",
    "                i=i+1\n",
    "            else:\n",
    "                i=i+1\n",
    "            if i == len(self.f)-1:\n",
    "                puzzle_end_index=i-1\n",
    "                puzzle = self.f[puzzle_start_index::]                \n",
    "                puzzles.append([list(l) for l in puzzle])\n",
    "                at_end=True\n",
    "    \n",
    "        self.puzzles = [np.array(puzzle) for puzzle in puzzles]\n",
    "        \n",
    "    \n",
    "    def count(self, a): \n",
    "        \n",
    "        max_window = 0\n",
    "        som=0\n",
    "        start_index_h = None\n",
    "        start_index_v = None\n",
    "        hs = []\n",
    "        vs = []\n",
    "        \n",
    "        \n",
    "        # get sliding, expanding windows\n",
    "        for start_index in np.arange(1,a.shape[1]):\n",
    "            arr1 = a[:,0:start_index]\n",
    "            arr2 = a[:,start_index:]\n",
    "            arr2_flipped = np.flip(arr2, axis=1)\n",
    "            \n",
    "            window = min(arr2.shape[1],arr1.shape[1],start_index)\n",
    "            \n",
    "            a1 = arr1[:, -window:]\n",
    "            a2 = arr2_flipped[:, -window:]\n",
    "            \n",
    "            if np.array_equal(a1, a2):\n",
    "                hs.append(start_index)\n",
    "                som=som+start_index\n",
    "                start_index_h = start_index\n",
    "        \n",
    "        # get sliding, expanding windows\n",
    "        for start_index in np.arange(1,a.shape[0]):\n",
    "            arr1 = a[0:start_index,:]\n",
    "            arr2 = a[start_index:,:]\n",
    "            arr2_flipped = np.flip(arr2, axis=0)\n",
    "            window = min(arr2.shape[0],arr1.shape[0],start_index)\n",
    "            a1 = arr1[-window:,:]\n",
    "            a2 = arr2_flipped[-window:,:]\n",
    "\n",
    "            if np.array_equal(a1, a2):\n",
    "                vs.append(start_index)\n",
    "                som=som+start_index*100 \n",
    "                start_index_v = start_index\n",
    "        \n",
    "        \n",
    "        return som, hs, vs\n",
    "\n",
    "    def replace_char(self, puzzle, y,x):\n",
    "        copy_puzzle = copy(puzzle)\n",
    "        char = copy_puzzle[y,x]\n",
    "        if char==\".\":\n",
    "            copy_puzzle[y,x] = \"#\"\n",
    "        if char==\"#\":\n",
    "            copy_puzzle[y,x] = \".\"\n",
    "        return copy_puzzle\n",
    "    \n",
    "    def smudge_repair(self,puzzle):\n",
    "        \n",
    "        new_score=0\n",
    "        org_score, h1,v1 = self.count(puzzle)\n",
    "        hs=[]\n",
    "        vs=[]\n",
    "        \n",
    "        for y in range(puzzle.shape[0]):\n",
    "            for x in range(puzzle.shape[1]):\n",
    "                copy_puzzle = copy(puzzle)\n",
    "                copy_puzzle = self.replace_char(copy_puzzle,y,x)\n",
    "                new_score, h2, v2 = self.count(copy_puzzle)\n",
    "                #print('x', x, 'y',y,'org:', org_score, ' new',new_score)\n",
    "                if (h2!=h1) and (len(h2)>0):\n",
    "                    return h2, h2, v2\n",
    "                if (v2!=v1) and (len(v2)>0):\n",
    "                    return v2*100, h2, v2\n",
    "        return None, None, None\n",
    "                \n",
    "                    \n",
    "\n",
    "    def run(self):\n",
    "        self.som=0        \n",
    "        for puzzle in self.puzzles:\n",
    "            \n",
    "            old_som, h1, v1 = self.count(puzzle)\n",
    "            self.som = self.som + self.count(puzzle)[0]\n",
    "        print(self.som)\n",
    "\n",
    "    def run2(self):\n",
    "        som=0\n",
    "        for puzzle in self.puzzles[0:]:\n",
    "            old_som, h1, v1 = self.count(puzzle)\n",
    "            new_som, h2, v2  = self.smudge_repair(puzzle)\n",
    "            \n",
    "            if set(v1)!=set(v2):\n",
    "                new_som = (set(v2)-set(v1))\n",
    "                new_som = list(new_som)[0]*100\n",
    "            if set(h1)!=set(h2):\n",
    "                new_som = list((set(h2)-set(h1)))[0]\n",
    "            som = som + new_som\n",
    "        print(som)\n",
    "\n"
   ]
  },
  {
   "cell_type": "code",
   "execution_count": 450,
   "id": "0d8ed071-4023-4135-80dc-69a0a3b4fbd3",
   "metadata": {},
   "outputs": [],
   "source": [
    "p = P()\n",
    "p.load_data(f)\n",
    "#p.run()"
   ]
  },
  {
   "cell_type": "code",
   "execution_count": 452,
   "id": "75c691ac-4175-4ea3-9b41-faed6ba59ec8",
   "metadata": {},
   "outputs": [
    {
     "name": "stdout",
     "output_type": "stream",
     "text": [
      "36755\n"
     ]
    }
   ],
   "source": [
    "p = P()\n",
    "p.load_data(f)\n",
    "p.run2()"
   ]
  },
  {
   "cell_type": "code",
   "execution_count": 378,
   "id": "b3ded718-a70a-4daf-b5d1-0c0ead00f873",
   "metadata": {},
   "outputs": [
    {
     "name": "stdout",
     "output_type": "stream",
     "text": [
      "smudge in:  0 11\n"
     ]
    },
    {
     "data": {
      "text/plain": [
       "([], [], [])"
      ]
     },
     "execution_count": 378,
     "metadata": {},
     "output_type": "execute_result"
    }
   ],
   "source": [
    "p.smudge_repair(p.puzzles[1])"
   ]
  },
  {
   "cell_type": "markdown",
   "id": "f3a8d570-5819-4210-a8a8-ab772c8f94c0",
   "metadata": {},
   "source": [
    "# 2"
   ]
  },
  {
   "cell_type": "code",
   "execution_count": 152,
   "id": "8df925bc-d3cb-4fa5-ad35-2d58a16c1f85",
   "metadata": {},
   "outputs": [],
   "source": [
    "a=data[0]"
   ]
  },
  {
   "cell_type": "code",
   "execution_count": 153,
   "id": "87652a9c-d7f3-4b80-bab8-04563a2945d0",
   "metadata": {},
   "outputs": [
    {
     "data": {
      "text/plain": [
       "[['#', '.', '#', '#', '.', '.', '.', '.', '#', '#', '.', '#', '.'],\n",
       " ['#', '.', '#', '#', '.', '.', '.', '.', '#', '#', '.', '#', '.'],\n",
       " ['.', '#', '.', '#', '.', '.', '.', '.', '#', '.', '#', '.', '#'],\n",
       " ['.', '#', '#', '#', '.', '.', '.', '.', '#', '#', '#', '.', '.'],\n",
       " ['#', '.', '#', '.', '#', '#', '#', '#', '.', '#', '.', '#', '.'],\n",
       " ['.', '#', '#', '#', '#', '.', '.', '.', '#', '#', '#', '.', '#'],\n",
       " ['#', '.', '.', '#', '#', '#', '#', '#', '#', '.', '.', '#', '.'],\n",
       " ['.', '.', '#', '.', '.', '#', '#', '.', '.', '#', '.', '.', '#'],\n",
       " ['.', '#', '.', '.', '.', '.', '.', '.', '.', '.', '#', '.', '#']]"
      ]
     },
     "execution_count": 153,
     "metadata": {},
     "output_type": "execute_result"
    }
   ],
   "source": [
    "a"
   ]
  },
  {
   "cell_type": "code",
   "execution_count": 192,
   "id": "e0c7da67-7ff0-4738-9fc5-d2a903fcbeaa",
   "metadata": {},
   "outputs": [
    {
     "name": "stdout",
     "output_type": "stream",
     "text": [
      "1\n",
      "2\n",
      "3\n",
      "4\n",
      "5\n",
      "6\n",
      "7\n",
      "8\n",
      "9\n",
      "10\n",
      "11\n",
      "12\n",
      "[['#' '.' '#' '#' '.' '.' '.' '.' '#' '#' '.' '#' '.']]\n",
      "[['#' '.' '#' '#' '.' '.' '.' '.' '#' '#' '.' '#' '.']]\n",
      "[['#' '.' '#' '#' '.' '.' '.' '.' '#' '#' '.' '#' '.']\n",
      " ['#' '.' '#' '#' '.' '.' '.' '.' '#' '#' '.' '#' '.']]\n",
      "[['.' '#' '#' '#' '.' '.' '.' '.' '#' '#' '#' '.' '.']\n",
      " ['.' '#' '.' '#' '.' '.' '.' '.' '#' '.' '#' '.' '#']]\n",
      "[['#' '.' '#' '#' '.' '.' '.' '.' '#' '#' '.' '#' '.']\n",
      " ['#' '.' '#' '#' '.' '.' '.' '.' '#' '#' '.' '#' '.']\n",
      " ['.' '#' '.' '#' '.' '.' '.' '.' '#' '.' '#' '.' '#']]\n",
      "[['.' '#' '#' '#' '#' '.' '.' '.' '#' '#' '#' '.' '#']\n",
      " ['#' '.' '#' '.' '#' '#' '#' '#' '.' '#' '.' '#' '.']\n",
      " ['.' '#' '#' '#' '.' '.' '.' '.' '#' '#' '#' '.' '.']]\n",
      "[['#' '.' '#' '#' '.' '.' '.' '.' '#' '#' '.' '#' '.']\n",
      " ['#' '.' '#' '#' '.' '.' '.' '.' '#' '#' '.' '#' '.']\n",
      " ['.' '#' '.' '#' '.' '.' '.' '.' '#' '.' '#' '.' '#']\n",
      " ['.' '#' '#' '#' '.' '.' '.' '.' '#' '#' '#' '.' '.']]\n",
      "[['.' '.' '#' '.' '.' '#' '#' '.' '.' '#' '.' '.' '#']\n",
      " ['#' '.' '.' '#' '#' '#' '#' '#' '#' '.' '.' '#' '.']\n",
      " ['.' '#' '#' '#' '#' '.' '.' '.' '#' '#' '#' '.' '#']\n",
      " ['#' '.' '#' '.' '#' '#' '#' '#' '.' '#' '.' '#' '.']]\n",
      "[['#' '.' '#' '#' '.' '.' '.' '.' '#' '#' '.' '#' '.']\n",
      " ['#' '.' '#' '#' '.' '.' '.' '.' '#' '#' '.' '#' '.']\n",
      " ['.' '#' '.' '#' '.' '.' '.' '.' '#' '.' '#' '.' '#']\n",
      " ['.' '#' '#' '#' '.' '.' '.' '.' '#' '#' '#' '.' '.']\n",
      " ['#' '.' '#' '.' '#' '#' '#' '#' '.' '#' '.' '#' '.']]\n",
      "[['.' '#' '.' '.' '.' '.' '.' '.' '.' '.' '#' '.' '#']\n",
      " ['.' '.' '#' '.' '.' '#' '#' '.' '.' '#' '.' '.' '#']\n",
      " ['#' '.' '.' '#' '#' '#' '#' '#' '#' '.' '.' '#' '.']\n",
      " ['.' '#' '#' '#' '#' '.' '.' '.' '#' '#' '#' '.' '#']]\n",
      "[['#' '.' '#' '#' '.' '.' '.' '.' '#' '#' '.' '#' '.']\n",
      " ['#' '.' '#' '#' '.' '.' '.' '.' '#' '#' '.' '#' '.']\n",
      " ['.' '#' '.' '#' '.' '.' '.' '.' '#' '.' '#' '.' '#']\n",
      " ['.' '#' '#' '#' '.' '.' '.' '.' '#' '#' '#' '.' '.']\n",
      " ['#' '.' '#' '.' '#' '#' '#' '#' '.' '#' '.' '#' '.']\n",
      " ['.' '#' '#' '#' '#' '.' '.' '.' '#' '#' '#' '.' '#']]\n",
      "[['.' '#' '.' '.' '.' '.' '.' '.' '.' '.' '#' '.' '#']\n",
      " ['.' '.' '#' '.' '.' '#' '#' '.' '.' '#' '.' '.' '#']\n",
      " ['#' '.' '.' '#' '#' '#' '#' '#' '#' '.' '.' '#' '.']]\n",
      "[['#' '.' '#' '#' '.' '.' '.' '.' '#' '#' '.' '#' '.']\n",
      " ['#' '.' '#' '#' '.' '.' '.' '.' '#' '#' '.' '#' '.']\n",
      " ['.' '#' '.' '#' '.' '.' '.' '.' '#' '.' '#' '.' '#']\n",
      " ['.' '#' '#' '#' '.' '.' '.' '.' '#' '#' '#' '.' '.']\n",
      " ['#' '.' '#' '.' '#' '#' '#' '#' '.' '#' '.' '#' '.']\n",
      " ['.' '#' '#' '#' '#' '.' '.' '.' '#' '#' '#' '.' '#']\n",
      " ['#' '.' '.' '#' '#' '#' '#' '#' '#' '.' '.' '#' '.']]\n",
      "[['.' '#' '.' '.' '.' '.' '.' '.' '.' '.' '#' '.' '#']\n",
      " ['.' '.' '#' '.' '.' '#' '#' '.' '.' '#' '.' '.' '#']]\n",
      "[['#' '.' '#' '#' '.' '.' '.' '.' '#' '#' '.' '#' '.']\n",
      " ['#' '.' '#' '#' '.' '.' '.' '.' '#' '#' '.' '#' '.']\n",
      " ['.' '#' '.' '#' '.' '.' '.' '.' '#' '.' '#' '.' '#']\n",
      " ['.' '#' '#' '#' '.' '.' '.' '.' '#' '#' '#' '.' '.']\n",
      " ['#' '.' '#' '.' '#' '#' '#' '#' '.' '#' '.' '#' '.']\n",
      " ['.' '#' '#' '#' '#' '.' '.' '.' '#' '#' '#' '.' '#']\n",
      " ['#' '.' '.' '#' '#' '#' '#' '#' '#' '.' '.' '#' '.']\n",
      " ['.' '.' '#' '.' '.' '#' '#' '.' '.' '#' '.' '.' '#']]\n",
      "[['.' '#' '.' '.' '.' '.' '.' '.' '.' '.' '#' '.' '#']]\n"
     ]
    }
   ],
   "source": []
  },
  {
   "cell_type": "code",
   "execution_count": 193,
   "id": "864e4fc3-5ef6-4f32-a1cb-d15c68667949",
   "metadata": {},
   "outputs": [
    {
     "data": {
      "text/plain": [
       "100"
      ]
     },
     "execution_count": 193,
     "metadata": {},
     "output_type": "execute_result"
    }
   ],
   "source": [
    "som"
   ]
  },
  {
   "cell_type": "code",
   "execution_count": 187,
   "id": "1a01f029-1392-411f-bb6a-12c3cb90b504",
   "metadata": {},
   "outputs": [
    {
     "data": {
      "text/plain": [
       "array([['.', '.', '.', '#', '.', '#', '.', '#', '#', '.', '#', '.', '#',\n",
       "        '.', '.', '.', '.'],\n",
       "       ['.', '.', '#', '#', '#', '.', '.', '#', '#', '.', '.', '#', '#',\n",
       "        '#', '.', '.', '.'],\n",
       "       ['#', '.', '.', '#', '#', '.', '#', '.', '.', '#', '.', '#', '#',\n",
       "        '.', '.', '#', '#'],\n",
       "       ['#', '.', '#', '#', '#', '.', '#', '#', '#', '#', '.', '#', '#',\n",
       "        '#', '.', '#', '.'],\n",
       "       ['#', '#', '#', '#', '.', '.', '#', '.', '.', '#', '.', '.', '#',\n",
       "        '#', '#', '#', '.'],\n",
       "       ['#', '#', '#', '#', '.', '#', '#', '.', '.', '#', '#', '.', '#',\n",
       "        '#', '#', '#', '#'],\n",
       "       ['#', '.', '.', '#', '.', '#', '#', '.', '.', '#', '#', '.', '#',\n",
       "        '.', '.', '#', '.'],\n",
       "       ['.', '.', '#', '#', '#', '#', '.', '#', '#', '#', '#', '#', '#',\n",
       "        '#', '.', '.', '#'],\n",
       "       ['.', '.', '.', '.', '.', '.', '#', '#', '#', '#', '.', '.', '.',\n",
       "        '.', '.', '.', '#'],\n",
       "       ['.', '.', '.', '#', '.', '.', '.', '.', '.', '.', '.', '.', '#',\n",
       "        '.', '.', '.', '#']], dtype='<U1')"
      ]
     },
     "execution_count": 187,
     "metadata": {},
     "output_type": "execute_result"
    }
   ],
   "source": [
    "arr1"
   ]
  },
  {
   "cell_type": "code",
   "execution_count": 177,
   "id": "bae95388-3373-44e6-9b2c-4a7d9327574d",
   "metadata": {},
   "outputs": [
    {
     "data": {
      "text/plain": [
       "array([['.', '#', '#', '.', '.', '.', '.', '.', '.', '#', '#', '.', '.']],\n",
       "      dtype='<U1')"
      ]
     },
     "execution_count": 177,
     "metadata": {},
     "output_type": "execute_result"
    }
   ],
   "source": [
    "slc"
   ]
  },
  {
   "cell_type": "markdown",
   "id": "5ce48db2-7f7f-46f9-a542-581242f74258",
   "metadata": {},
   "source": [
    "# 2"
   ]
  },
  {
   "cell_type": "code",
   "execution_count": null,
   "id": "bac4ffb6-4b67-4d74-9788-9c5c1106d3dd",
   "metadata": {},
   "outputs": [],
   "source": [
    "1) create sequence of groups that satisfy length of string + have right amount of #s\n",
    "2) for eahc of those sequences, generate the permutations\n",
    "3) loop through permutations to see if they fit the strings "
   ]
  },
  {
   "cell_type": "code",
   "execution_count": 201,
   "id": "cc72a5cd-4f1d-4e94-8399-8868242e041d",
   "metadata": {},
   "outputs": [
    {
     "data": {
      "text/plain": [
       "[(1, 1, 4),\n",
       " (1, 2, 3),\n",
       " (1, 3, 2),\n",
       " (1, 4, 1),\n",
       " (2, 1, 3),\n",
       " (2, 2, 2),\n",
       " (2, 3, 1),\n",
       " (3, 1, 2),\n",
       " (3, 2, 1),\n",
       " (4, 1, 1)]"
      ]
     },
     "execution_count": 201,
     "metadata": {},
     "output_type": "execute_result"
    }
   ],
   "source": [
    "s=\"????#?..?..\"\n",
    "h=(3,1)\n",
    "list(partition(6,3,s))"
   ]
  },
  {
   "cell_type": "code",
   "execution_count": 319,
   "id": "e34f1874-68f0-4627-aab1-dce75f563213",
   "metadata": {},
   "outputs": [
    {
     "data": {
      "text/plain": [
       "[(1, 1, 1)]"
      ]
     },
     "execution_count": 319,
     "metadata": {},
     "output_type": "execute_result"
    }
   ],
   "source": [
    "list(partition(3,3,s))"
   ]
  },
  {
   "cell_type": "code",
   "execution_count": 239,
   "id": "43bb84a0-40aa-41a6-a41a-ae61735dd67b",
   "metadata": {},
   "outputs": [],
   "source": [
    "def partition(n, k, s, prefix=None):\n",
    "    if prefix is None:\n",
    "        prefix = []\n",
    "\n",
    "                        \n",
    "    if k == 1:\n",
    "        if n > 0:\n",
    "            \n",
    "            prefix.append(n)\n",
    "            yield tuple(prefix)            \n",
    "            prefix.pop()\n",
    "\n",
    "        return\n",
    "\n",
    "    for i in range(1, n + 1):\n",
    "        if i <= n:\n",
    "            prefix.append(i)\n",
    "            yield from partition(n - i, k - 1,s, prefix)\n",
    "            prefix.pop()   "
   ]
  },
  {
   "cell_type": "code",
   "execution_count": 240,
   "id": "fde279f9-be78-491a-a983-035ea4027b57",
   "metadata": {},
   "outputs": [],
   "source": [
    "def create_string(group,char=\".\"):\n",
    "    return (f\"{char}\"*i for i in group)"
   ]
  },
  {
   "cell_type": "code",
   "execution_count": 241,
   "id": "030c8b5c-b9bf-42c4-b717-c391fa5551ba",
   "metadata": {},
   "outputs": [],
   "source": [
    "import itertools\n",
    "def zip_strings(list1, list2):\n",
    "    return [x for x in itertools.chain.from_iterable(itertools.zip_longest(list1,list2)) if x]\n"
   ]
  },
  {
   "cell_type": "code",
   "execution_count": 242,
   "id": "4586e58c-65c3-45da-9215-1c9576f7640f",
   "metadata": {},
   "outputs": [],
   "source": [
    "def count_num_hash_groups(s):\n",
    "    return len([i for i in s.split(\".\") if i!=\"\"])"
   ]
  },
  {
   "cell_type": "code",
   "execution_count": 405,
   "id": "01cba0c9-be58-448c-b44a-f7077e67958b",
   "metadata": {},
   "outputs": [],
   "source": [
    "\n",
    "def generate_group_sequences(s,hash_group_numbers):\n",
    "    \n",
    "    hash_groups = list(create_string(hash_group_numbers,char=\"#\"))\n",
    "    num_q = len([c for c in s if c==\"?\"])\n",
    "    total_hashes = sum(hash_group_numbers)\n",
    "    num_hash_groups = len(hash_groups)    \n",
    "    num_dots = len(s)-total_hashes\n",
    "    print(\"num dots:\", num_dots)\n",
    "    \n",
    "    \n",
    "    # \n",
    "    max_dot_groups = min(num_hash_groups+1, num_dots)\n",
    "    min_dot_groups = min(num_hash_groups-1, max_dot_groups)\n",
    "    \n",
    "         \n",
    "    if (s[0]==\"#\"):    \n",
    "        if (s[-1]==\"#\"):    \n",
    "            max_dot_groups = min(num_hash_groups-1, num_dots)\n",
    "        if (s[-1]==\".\"):    \n",
    "            max_dot_groups = min(num_hash_groups, num_dots)\n",
    "            min_dot_groups = max(num_hash_groups, max_dot_groups)\n",
    "        min_dot_groups = num_hash_groups\n",
    "    else:\n",
    "        if (s[-1]==\"#\"):    \n",
    "            max_dot_groups = min(num_hash_groups, num_dots)\n",
    "            \n",
    "    if (s[0]==\".\") and (s[-1]==\".\"):        \n",
    "        min_dot_groups = max(2,num_hash_groups+1)\n",
    "        \n",
    "        \n",
    "\n",
    "    dot_sequences = []\n",
    "    print(\"min dot:\",min_dot_groups, \"  max dot groups:\", max_dot_groups)\n",
    "    for num_dot_groups in np.arange(min_dot_groups, max_dot_groups+1):  \n",
    "        unique_groups = list(partition(num_dots, num_dot_groups,s))\n",
    "        print(unique_groups)\n",
    "        dot_groups = [list(create_string(dot_group,char=\".\")) for dot_group in unique_groups]    \n",
    "        dot_sequences.extend(dot_groups)\n",
    "    print(\"dot seq:\",dot_sequences)\n",
    "    candidate_strings = []\n",
    "    for dot_seq in dot_sequences:\n",
    "        new_seq = \"\".join(zip_strings(dot_seq, hash_groups))\n",
    "        if count_num_hash_groups(new_seq)==num_hash_groups:            \n",
    "            candidate_strings.append(new_seq)\n",
    "        new_seq = \"\".join(zip_strings(hash_groups,dot_seq))\n",
    "        if count_num_hash_groups(new_seq)==num_hash_groups:            \n",
    "            candidate_strings.append(new_seq)\n",
    "        \n",
    "\n",
    "    new_list = []\n",
    "    for string in candidate_strings:\n",
    "        if fit(s, string):\n",
    "            new_list.append(string)\n",
    "        \n",
    "    return new_list\n",
    "                                    \n",
    "    "
   ]
  },
  {
   "cell_type": "code",
   "execution_count": 406,
   "id": "92c3b967-bfd9-46ef-9ee0-6d5be29aab9a",
   "metadata": {},
   "outputs": [],
   "source": [
    "def fit(s1, s2):\n",
    "    \n",
    "    valid=True\n",
    "    for c1, c2 in zip(s1,s2):        \n",
    "        if (c1==\".\") and (c2==\"#\"):\n",
    "            valid=False\n",
    "            return valid\n",
    "        if (c1==\"#\") and (c2==\".\"):\n",
    "            valid=False\n",
    "            return valid\n",
    "        #print(c1, c2, valid)\n",
    "    return valid    "
   ]
  },
  {
   "cell_type": "code",
   "execution_count": 407,
   "id": "f5549d09-b14c-4d9c-beaf-d2e1434ab190",
   "metadata": {},
   "outputs": [],
   "source": [
    "class P2:\n",
    "    \n",
    "    def __init__(self):\n",
    "        self.results = []\n",
    "    \n",
    "    def load_data(self,data):\n",
    "        f = data.splitlines()\n",
    "        f = [i.split(\" \") for i in f]\n",
    "        self.f = f\n",
    "        self.input = [i[0] for i in f]\n",
    "        self.answer = [tuple([int(s) for s in i[1].split(\",\")]) for i in f]\n",
    "    \n",
    "    def expand_data(self):\n",
    "        self.input = [i*5 for i in self.input]\n",
    "        self.answer = [i*5 for i in self.answer]\n",
    "        \n",
    "    def run(self,start=0,end=-1):\n",
    "        counts = []\n",
    "        for input,hash_numbers in zip(self.input[start:end], self.answer[start:end]):  \n",
    "            print(input, hash_numbers)\n",
    "            gross_list = generate_group_sequences(input,hash_numbers)\n",
    "            net_list = [candidate for candidate in gross_list if fit(input,candidate)]\n",
    "            counts.append(len(net_list))\n",
    "\n",
    "        self.counts = counts\n",
    "            "
   ]
  },
  {
   "cell_type": "code",
   "execution_count": 410,
   "id": "9e367fa7-7574-4741-a36d-b8205f492d8e",
   "metadata": {},
   "outputs": [
    {
     "name": "stdout",
     "output_type": "stream",
     "text": [
      "['???.###', '.??..??...?##.', '?#?#?#?#?#?#?#?', '????.#...#...', '????.######..#####.', '?###????????']\n",
      "???.### (1, 1, 3)\n",
      "num dots: 2\n",
      "min dot: 2   max dot groups: 2\n",
      "[(1, 1)]\n",
      "dot seq: [['.', '.']]\n",
      ".??..??...?##. (1, 1, 3)\n",
      "num dots: 9\n",
      "min dot: 4   max dot groups: 4\n",
      "[(1, 1, 1, 6), (1, 1, 2, 5), (1, 1, 3, 4), (1, 1, 4, 3), (1, 1, 5, 2), (1, 1, 6, 1), (1, 2, 1, 5), (1, 2, 2, 4), (1, 2, 3, 3), (1, 2, 4, 2), (1, 2, 5, 1), (1, 3, 1, 4), (1, 3, 2, 3), (1, 3, 3, 2), (1, 3, 4, 1), (1, 4, 1, 3), (1, 4, 2, 2), (1, 4, 3, 1), (1, 5, 1, 2), (1, 5, 2, 1), (1, 6, 1, 1), (2, 1, 1, 5), (2, 1, 2, 4), (2, 1, 3, 3), (2, 1, 4, 2), (2, 1, 5, 1), (2, 2, 1, 4), (2, 2, 2, 3), (2, 2, 3, 2), (2, 2, 4, 1), (2, 3, 1, 3), (2, 3, 2, 2), (2, 3, 3, 1), (2, 4, 1, 2), (2, 4, 2, 1), (2, 5, 1, 1), (3, 1, 1, 4), (3, 1, 2, 3), (3, 1, 3, 2), (3, 1, 4, 1), (3, 2, 1, 3), (3, 2, 2, 2), (3, 2, 3, 1), (3, 3, 1, 2), (3, 3, 2, 1), (3, 4, 1, 1), (4, 1, 1, 3), (4, 1, 2, 2), (4, 1, 3, 1), (4, 2, 1, 2), (4, 2, 2, 1), (4, 3, 1, 1), (5, 1, 1, 2), (5, 1, 2, 1), (5, 2, 1, 1), (6, 1, 1, 1)]\n",
      "dot seq: [['.', '.', '.', '......'], ['.', '.', '..', '.....'], ['.', '.', '...', '....'], ['.', '.', '....', '...'], ['.', '.', '.....', '..'], ['.', '.', '......', '.'], ['.', '..', '.', '.....'], ['.', '..', '..', '....'], ['.', '..', '...', '...'], ['.', '..', '....', '..'], ['.', '..', '.....', '.'], ['.', '...', '.', '....'], ['.', '...', '..', '...'], ['.', '...', '...', '..'], ['.', '...', '....', '.'], ['.', '....', '.', '...'], ['.', '....', '..', '..'], ['.', '....', '...', '.'], ['.', '.....', '.', '..'], ['.', '.....', '..', '.'], ['.', '......', '.', '.'], ['..', '.', '.', '.....'], ['..', '.', '..', '....'], ['..', '.', '...', '...'], ['..', '.', '....', '..'], ['..', '.', '.....', '.'], ['..', '..', '.', '....'], ['..', '..', '..', '...'], ['..', '..', '...', '..'], ['..', '..', '....', '.'], ['..', '...', '.', '...'], ['..', '...', '..', '..'], ['..', '...', '...', '.'], ['..', '....', '.', '..'], ['..', '....', '..', '.'], ['..', '.....', '.', '.'], ['...', '.', '.', '....'], ['...', '.', '..', '...'], ['...', '.', '...', '..'], ['...', '.', '....', '.'], ['...', '..', '.', '...'], ['...', '..', '..', '..'], ['...', '..', '...', '.'], ['...', '...', '.', '..'], ['...', '...', '..', '.'], ['...', '....', '.', '.'], ['....', '.', '.', '...'], ['....', '.', '..', '..'], ['....', '.', '...', '.'], ['....', '..', '.', '..'], ['....', '..', '..', '.'], ['....', '...', '.', '.'], ['.....', '.', '.', '..'], ['.....', '.', '..', '.'], ['.....', '..', '.', '.'], ['......', '.', '.', '.']]\n",
      "?#?#?#?#?#?#?#? (1, 3, 1, 6)\n",
      "num dots: 4\n",
      "min dot: 3   max dot groups: 4\n",
      "[(1, 1, 2), (1, 2, 1), (2, 1, 1)]\n",
      "[(1, 1, 1, 1)]\n",
      "dot seq: [['.', '.', '..'], ['.', '..', '.'], ['..', '.', '.'], ['.', '.', '.', '.']]\n",
      "????.#...#... (4, 1, 1)\n",
      "num dots: 7\n",
      "min dot: 2   max dot groups: 4\n",
      "[(1, 6), (2, 5), (3, 4), (4, 3), (5, 2), (6, 1)]\n",
      "[(1, 1, 5), (1, 2, 4), (1, 3, 3), (1, 4, 2), (1, 5, 1), (2, 1, 4), (2, 2, 3), (2, 3, 2), (2, 4, 1), (3, 1, 3), (3, 2, 2), (3, 3, 1), (4, 1, 2), (4, 2, 1), (5, 1, 1)]\n",
      "[(1, 1, 1, 4), (1, 1, 2, 3), (1, 1, 3, 2), (1, 1, 4, 1), (1, 2, 1, 3), (1, 2, 2, 2), (1, 2, 3, 1), (1, 3, 1, 2), (1, 3, 2, 1), (1, 4, 1, 1), (2, 1, 1, 3), (2, 1, 2, 2), (2, 1, 3, 1), (2, 2, 1, 2), (2, 2, 2, 1), (2, 3, 1, 1), (3, 1, 1, 2), (3, 1, 2, 1), (3, 2, 1, 1), (4, 1, 1, 1)]\n",
      "dot seq: [['.', '......'], ['..', '.....'], ['...', '....'], ['....', '...'], ['.....', '..'], ['......', '.'], ['.', '.', '.....'], ['.', '..', '....'], ['.', '...', '...'], ['.', '....', '..'], ['.', '.....', '.'], ['..', '.', '....'], ['..', '..', '...'], ['..', '...', '..'], ['..', '....', '.'], ['...', '.', '...'], ['...', '..', '..'], ['...', '...', '.'], ['....', '.', '..'], ['....', '..', '.'], ['.....', '.', '.'], ['.', '.', '.', '....'], ['.', '.', '..', '...'], ['.', '.', '...', '..'], ['.', '.', '....', '.'], ['.', '..', '.', '...'], ['.', '..', '..', '..'], ['.', '..', '...', '.'], ['.', '...', '.', '..'], ['.', '...', '..', '.'], ['.', '....', '.', '.'], ['..', '.', '.', '...'], ['..', '.', '..', '..'], ['..', '.', '...', '.'], ['..', '..', '.', '..'], ['..', '..', '..', '.'], ['..', '...', '.', '.'], ['...', '.', '.', '..'], ['...', '.', '..', '.'], ['...', '..', '.', '.'], ['....', '.', '.', '.']]\n",
      "????.######..#####. (1, 6, 5)\n",
      "num dots: 7\n",
      "min dot: 2   max dot groups: 4\n",
      "[(1, 6), (2, 5), (3, 4), (4, 3), (5, 2), (6, 1)]\n",
      "[(1, 1, 5), (1, 2, 4), (1, 3, 3), (1, 4, 2), (1, 5, 1), (2, 1, 4), (2, 2, 3), (2, 3, 2), (2, 4, 1), (3, 1, 3), (3, 2, 2), (3, 3, 1), (4, 1, 2), (4, 2, 1), (5, 1, 1)]\n",
      "[(1, 1, 1, 4), (1, 1, 2, 3), (1, 1, 3, 2), (1, 1, 4, 1), (1, 2, 1, 3), (1, 2, 2, 2), (1, 2, 3, 1), (1, 3, 1, 2), (1, 3, 2, 1), (1, 4, 1, 1), (2, 1, 1, 3), (2, 1, 2, 2), (2, 1, 3, 1), (2, 2, 1, 2), (2, 2, 2, 1), (2, 3, 1, 1), (3, 1, 1, 2), (3, 1, 2, 1), (3, 2, 1, 1), (4, 1, 1, 1)]\n",
      "dot seq: [['.', '......'], ['..', '.....'], ['...', '....'], ['....', '...'], ['.....', '..'], ['......', '.'], ['.', '.', '.....'], ['.', '..', '....'], ['.', '...', '...'], ['.', '....', '..'], ['.', '.....', '.'], ['..', '.', '....'], ['..', '..', '...'], ['..', '...', '..'], ['..', '....', '.'], ['...', '.', '...'], ['...', '..', '..'], ['...', '...', '.'], ['....', '.', '..'], ['....', '..', '.'], ['.....', '.', '.'], ['.', '.', '.', '....'], ['.', '.', '..', '...'], ['.', '.', '...', '..'], ['.', '.', '....', '.'], ['.', '..', '.', '...'], ['.', '..', '..', '..'], ['.', '..', '...', '.'], ['.', '...', '.', '..'], ['.', '...', '..', '.'], ['.', '....', '.', '.'], ['..', '.', '.', '...'], ['..', '.', '..', '..'], ['..', '.', '...', '.'], ['..', '..', '.', '..'], ['..', '..', '..', '.'], ['..', '...', '.', '.'], ['...', '.', '.', '..'], ['...', '.', '..', '.'], ['...', '..', '.', '.'], ['....', '.', '.', '.']]\n",
      "?###???????? (3, 2, 1)\n",
      "num dots: 6\n",
      "min dot: 2   max dot groups: 4\n",
      "[(1, 5), (2, 4), (3, 3), (4, 2), (5, 1)]\n",
      "[(1, 1, 4), (1, 2, 3), (1, 3, 2), (1, 4, 1), (2, 1, 3), (2, 2, 2), (2, 3, 1), (3, 1, 2), (3, 2, 1), (4, 1, 1)]\n",
      "[(1, 1, 1, 3), (1, 1, 2, 2), (1, 1, 3, 1), (1, 2, 1, 2), (1, 2, 2, 1), (1, 3, 1, 1), (2, 1, 1, 2), (2, 1, 2, 1), (2, 2, 1, 1), (3, 1, 1, 1)]\n",
      "dot seq: [['.', '.....'], ['..', '....'], ['...', '...'], ['....', '..'], ['.....', '.'], ['.', '.', '....'], ['.', '..', '...'], ['.', '...', '..'], ['.', '....', '.'], ['..', '.', '...'], ['..', '..', '..'], ['..', '...', '.'], ['...', '.', '..'], ['...', '..', '.'], ['....', '.', '.'], ['.', '.', '.', '...'], ['.', '.', '..', '..'], ['.', '.', '...', '.'], ['.', '..', '.', '..'], ['.', '..', '..', '.'], ['.', '...', '.', '.'], ['..', '.', '.', '..'], ['..', '.', '..', '.'], ['..', '..', '.', '.'], ['...', '.', '.', '.']]\n"
     ]
    },
    {
     "data": {
      "text/plain": [
       "[1, 4, 1, 3, 4, 10]"
      ]
     },
     "execution_count": 410,
     "metadata": {},
     "output_type": "execute_result"
    }
   ],
   "source": [
    "d=P2()\n",
    "d.load_data(test_f)\n",
    "print(d.input)\n",
    "d.run(start=0,end=6)\n",
    "d.counts"
   ]
  },
  {
   "cell_type": "code",
   "execution_count": 404,
   "id": "0db06f40-c484-4086-8efd-26f5fa5e8300",
   "metadata": {},
   "outputs": [
    {
     "name": "stdout",
     "output_type": "stream",
     "text": [
      "num dots: 2\n",
      "min dot: 2   max dot groups: 2\n",
      "[(1, 1)]\n",
      "dot seq: [['.', '.']]\n"
     ]
    },
    {
     "data": {
      "text/plain": [
       "[]"
      ]
     },
     "execution_count": 404,
     "metadata": {},
     "output_type": "execute_result"
    }
   ],
   "source": [
    "i=0\n",
    "s=d.input[i]\n",
    "h=d.answer[i]\n",
    "seq=generate_group_sequences(s,h)\n",
    "seq"
   ]
  },
  {
   "cell_type": "code",
   "execution_count": null,
   "id": "adb6e395-87ad-4ca5-9741-43c0fbace3da",
   "metadata": {},
   "outputs": [],
   "source": []
  },
  {
   "cell_type": "code",
   "execution_count": null,
   "id": "2991bf54-8e8f-412f-be51-e350898325f0",
   "metadata": {},
   "outputs": [],
   "source": []
  }
 ],
 "metadata": {
  "kernelspec": {
   "display_name": "Python 3 (ipykernel)",
   "language": "python",
   "name": "python3"
  },
  "language_info": {
   "codemirror_mode": {
    "name": "ipython",
    "version": 3
   },
   "file_extension": ".py",
   "mimetype": "text/x-python",
   "name": "python",
   "nbconvert_exporter": "python",
   "pygments_lexer": "ipython3",
   "version": "3.11.0"
  }
 },
 "nbformat": 4,
 "nbformat_minor": 5
}
