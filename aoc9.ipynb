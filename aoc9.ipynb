{
 "cells": [
  {
   "cell_type": "code",
   "execution_count": 1,
   "id": "b6aa2128-4423-457b-9ba1-0220c347ae95",
   "metadata": {},
   "outputs": [],
   "source": [
    "from collections import defaultdict, Counter, OrderedDict\n",
    "import numpy as np\n",
    "from copy import copy\n",
    "from itertools import groupby, permutations, product\n",
    "import json"
   ]
  },
  {
   "cell_type": "code",
   "execution_count": 17,
   "id": "66fe7080-19e5-4286-aef6-7cab08f4c9f5",
   "metadata": {},
   "outputs": [],
   "source": [
    "f = open(\"inputs/aoc9.txt\").read().splitlines()\n",
    "f = [i.split(\" \") for i in f]\n",
    "f = [[int(a) for a in i] for i in f]"
   ]
  },
  {
   "cell_type": "code",
   "execution_count": 82,
   "id": "5e179c9b-4034-4b18-8515-8f2fbd969d9b",
   "metadata": {},
   "outputs": [],
   "source": [
    "seq = [0,3,6,9,12]"
   ]
  },
  {
   "cell_type": "code",
   "execution_count": 80,
   "id": "02a68898-f737-4029-9cc4-dda0891e48a2",
   "metadata": {},
   "outputs": [],
   "source": [
    "def create_diff_sequence(l):\n",
    "    l = [i for i in l if i is not None]\n",
    "    new_l = []\n",
    "    for idx,v in enumerate(l):\n",
    "        new_l.append(l[idx]-l[idx-1])\n",
    "    new_l=new_l[1:]\n",
    "    return new_l"
   ]
  },
  {
   "cell_type": "code",
   "execution_count": 81,
   "id": "d45e29c5-a7ae-45cd-87f9-7596f0722ddc",
   "metadata": {},
   "outputs": [
    {
     "name": "stdout",
     "output_type": "stream",
     "text": [
      "[3, 3, 3, 3]\n"
     ]
    }
   ],
   "source": [
    "create_diff_sequence(seq)\n",
    "print(seq)"
   ]
  },
  {
   "cell_type": "code",
   "execution_count": 77,
   "id": "0677709f-75d6-4d26-aea7-62ab12980eba",
   "metadata": {},
   "outputs": [],
   "source": [
    "def predict_last_value(seq):\n",
    "    \n",
    "    not_all_zero=True\n",
    "    count = 0\n",
    "    result = []\n",
    "    result.append(seq)\n",
    "    while not_all_zero:    \n",
    "        seq = create_diff_sequence(seq)\n",
    "        result.append(seq)\n",
    "        if all(i==0 for i in seq):\n",
    "            not_all_zero=False\n",
    "        count+=1\n",
    "    \n",
    "    result.reverse()\n",
    "    new_result = []\n",
    "    for i,line in enumerate(result):\n",
    "        if i==0:\n",
    "            line.append(0)\n",
    "        else:\n",
    "            last_value_line_below = result[i-1][-1]\n",
    "            last_value_current_line = line[-1]\n",
    "            line.append(last_value_line_below+last_value_current_line)\n",
    "        new_result.append(line)\n",
    "    new_result.reverse()\n",
    "\n",
    "    return new_result[0][-1]"
   ]
  },
  {
   "cell_type": "code",
   "execution_count": 83,
   "id": "82c6b4c4-8c9a-44e3-b511-6912c88f6411",
   "metadata": {},
   "outputs": [
    {
     "data": {
      "text/plain": [
       "15"
      ]
     },
     "execution_count": 83,
     "metadata": {},
     "output_type": "execute_result"
    }
   ],
   "source": [
    "predict_last_value(seq)"
   ]
  },
  {
   "cell_type": "code",
   "execution_count": 84,
   "id": "b3093403-3493-4452-9e0e-f45a5ea874c7",
   "metadata": {},
   "outputs": [
    {
     "data": {
      "text/plain": [
       "1987402313"
      ]
     },
     "execution_count": 84,
     "metadata": {},
     "output_type": "execute_result"
    }
   ],
   "source": [
    "som = 0\n",
    "for seq in f:\n",
    "    pred_value = predict_last_value(seq)\n",
    "    som = som+pred_value\n",
    "som"
   ]
  },
  {
   "cell_type": "markdown",
   "id": "2b0f9774-03a1-40df-8949-647531ab2e0a",
   "metadata": {},
   "source": [
    "# 2"
   ]
  },
  {
   "cell_type": "code",
   "execution_count": 86,
   "id": "7fc70519-d3ca-422f-af0c-0fe0a0bc60dd",
   "metadata": {},
   "outputs": [],
   "source": [
    "def predict_p_value(seq):\n",
    "    \n",
    "    not_all_zero=True\n",
    "    count = 0\n",
    "    result = []\n",
    "    seq.reverse()\n",
    "    result.append(seq)\n",
    "    while not_all_zero:    \n",
    "        seq = create_diff_sequence(seq)\n",
    "        result.append(seq)\n",
    "        if all(i==0 for i in seq):\n",
    "            not_all_zero=False\n",
    "        count+=1\n",
    "    \n",
    "    result.reverse()\n",
    "    new_result = []\n",
    "    for i,line in enumerate(result):\n",
    "        if i==0:\n",
    "            line.append(0)\n",
    "        else:\n",
    "            last_value_line_below = result[i-1][-1]\n",
    "            last_value_current_line = line[-1]\n",
    "            line.append(last_value_line_below+last_value_current_line)\n",
    "        new_result.append(line)\n",
    "    new_result.reverse()\n",
    "\n",
    "    return new_result[0][-1]"
   ]
  },
  {
   "cell_type": "code",
   "execution_count": 87,
   "id": "b71d9998-4630-411d-bb40-0059c5001f5c",
   "metadata": {},
   "outputs": [
    {
     "data": {
      "text/plain": [
       "-3"
      ]
     },
     "execution_count": 87,
     "metadata": {},
     "output_type": "execute_result"
    }
   ],
   "source": [
    "seq = [0,3,6,9,12]\n",
    "predict_p_value(seq)"
   ]
  },
  {
   "cell_type": "code",
   "execution_count": 88,
   "id": "97b89ba6-0561-4d1d-9ad8-1b58895e4f52",
   "metadata": {},
   "outputs": [
    {
     "data": {
      "text/plain": [
       "900"
      ]
     },
     "execution_count": 88,
     "metadata": {},
     "output_type": "execute_result"
    }
   ],
   "source": [
    "som = 0\n",
    "for seq in f:\n",
    "    pred_value = predict_p_value(seq)\n",
    "    som = som+pred_value\n",
    "som"
   ]
  }
 ],
 "metadata": {
  "kernelspec": {
   "display_name": "Python 3 (ipykernel)",
   "language": "python",
   "name": "python3"
  },
  "language_info": {
   "codemirror_mode": {
    "name": "ipython",
    "version": 3
   },
   "file_extension": ".py",
   "mimetype": "text/x-python",
   "name": "python",
   "nbconvert_exporter": "python",
   "pygments_lexer": "ipython3",
   "version": "3.11.0"
  }
 },
 "nbformat": 4,
 "nbformat_minor": 5
}
