{
 "cells": [
  {
   "cell_type": "code",
   "execution_count": 223,
   "id": "b6aa2128-4423-457b-9ba1-0220c347ae95",
   "metadata": {},
   "outputs": [],
   "source": [
    "from collections import defaultdict, Counter, OrderedDict\n",
    "import numpy as np\n",
    "from copy import copy\n",
    "from itertools import groupby, permutations, product\n",
    "import json"
   ]
  },
  {
   "cell_type": "code",
   "execution_count": 224,
   "id": "66fe7080-19e5-4286-aef6-7cab08f4c9f5",
   "metadata": {},
   "outputs": [],
   "source": [
    "f = open(\"inputs/aoc8.txt\").read()"
   ]
  },
  {
   "cell_type": "code",
   "execution_count": 225,
   "id": "f326387f-87bb-4499-81b7-c0b60705bc03",
   "metadata": {},
   "outputs": [],
   "source": [
    "def make_data(f):\n",
    "    data=f.splitlines()\n",
    "    instructions = data[0]\n",
    "    nodes = data[2:]\n",
    "    first_nodes = [node.split(\" = \")[0] for node in nodes]\n",
    "    search_nodes = [node.split(\" = \")[1].split(\", \") for node in nodes]\n",
    "    search_nodes = [(node[0].replace(\"(\",\"\"), node[1].replace(\")\",\"\")) for node in search_nodes]\n",
    "    return instructions, first_nodes, search_nodes"
   ]
  },
  {
   "cell_type": "code",
   "execution_count": 226,
   "id": "5d3316cf-323a-46d1-a548-c76d442d2031",
   "metadata": {},
   "outputs": [],
   "source": [
    "instructions, first_nodes, search_nodes = make_data(f)"
   ]
  },
  {
   "cell_type": "code",
   "execution_count": 227,
   "id": "8394dd2c-6bfd-4a6f-b6e9-51bfb674f7fd",
   "metadata": {},
   "outputs": [
    {
     "data": {
      "text/plain": [
       "[('LRV', 'NBJ'),\n",
       " ('PKH', 'PBF'),\n",
       " ('PGR', 'CJB'),\n",
       " ('XNN', 'GCT'),\n",
       " ('QSS', 'PDK')]"
      ]
     },
     "execution_count": 227,
     "metadata": {},
     "output_type": "execute_result"
    }
   ],
   "source": [
    "search_nodes[0:5]"
   ]
  },
  {
   "cell_type": "code",
   "execution_count": 228,
   "id": "1f978092-de22-4029-b10b-c02c2f8bd6d9",
   "metadata": {},
   "outputs": [
    {
     "data": {
      "text/plain": [
       "'LRRRLRRLRLLRLRRLRLRLLRRRLRLRRRLRRRLRLRLRRLRLRRRLRRLLRRLLLRRLRRLRRRLRLRRRLRRLRRRLRRRLRRLRLLRRRLRLRRLRLRLRRRLRRLLRRRLLRRLRLRRLRRRLLLRRRLLRLLRRLRRRLRLRLRRLLLRRRLLRRLLLRLRLRRLLRLLRRLLLRRLLRRRLRLRRRLRLLRRRLRRRLRLRLRRRLRLRRRLRRRLRRRLLRLRLRLRRLRLRRRLRLRLLRRLRRLRRLRRRLRRRLRLLRLLLRRLRLRRRR'"
      ]
     },
     "execution_count": 228,
     "metadata": {},
     "output_type": "execute_result"
    }
   ],
   "source": [
    "instructions"
   ]
  },
  {
   "cell_type": "markdown",
   "id": "bb47dd9a-9d5a-43bf-a8cd-ff75faf0301d",
   "metadata": {},
   "source": [
    "# 1"
   ]
  },
  {
   "cell_type": "code",
   "execution_count": 229,
   "id": "f2d87499-76f2-4642-9c67-0e5356cb27c8",
   "metadata": {},
   "outputs": [],
   "source": [
    "def get_next_node(current_node, instruction):\n",
    "    index = first_nodes.index(current_node)\n",
    "    sn = search_nodes[index]\n",
    "    if instruction==\"L\":\n",
    "        next_node = sn[0]\n",
    "    else:\n",
    "        next_node = sn[1]\n",
    "    return next_node      "
   ]
  },
  {
   "cell_type": "code",
   "execution_count": 230,
   "id": "dd248b8b-de40-472f-abbc-dc269da5f046",
   "metadata": {},
   "outputs": [
    {
     "data": {
      "text/plain": [
       "'SRS'"
      ]
     },
     "execution_count": 230,
     "metadata": {},
     "output_type": "execute_result"
    }
   ],
   "source": [
    "get_next_node(current_node=\"AAA\", instruction=\"L\")"
   ]
  },
  {
   "cell_type": "code",
   "execution_count": 231,
   "id": "becbc836-78ea-4fb5-a320-0909c0e3c7f5",
   "metadata": {},
   "outputs": [],
   "source": [
    "current_node = \"AAA\" \n",
    "target_node = \"ZZZ\" "
   ]
  },
  {
   "cell_type": "code",
   "execution_count": 232,
   "id": "bcd6690f-a24f-42dc-9f8f-3673af500bf2",
   "metadata": {},
   "outputs": [],
   "source": [
    "def get_idx(i):\n",
    "    l = len(instructions)\n",
    "    whole_times = i//l\n",
    "    res = i-whole_times*l\n",
    "    return res"
   ]
  },
  {
   "cell_type": "code",
   "execution_count": 233,
   "id": "b592c5c7-98da-425c-9c4c-c1b5382dcbfc",
   "metadata": {},
   "outputs": [],
   "source": [
    "def test_outcome(current_node, steps):\n",
    "    for i in np.arange(1,steps+1):    \n",
    "        instruction = instructions[get_idx(i-1)]\n",
    "        current_node = get_next_node(current_node,instruction)\n",
    "    return current_node"
   ]
  },
  {
   "cell_type": "code",
   "execution_count": 235,
   "id": "baa7a826-8f5e-4d20-9284-30145580c5e5",
   "metadata": {},
   "outputs": [
    {
     "data": {
      "text/plain": [
       "'BHF'"
      ]
     },
     "execution_count": 235,
     "metadata": {},
     "output_type": "execute_result"
    }
   ],
   "source": [
    "test_outcome(\"MSA\", 100000)"
   ]
  },
  {
   "cell_type": "markdown",
   "id": "d3391615-0b6c-45da-afff-e15e29d5c144",
   "metadata": {},
   "source": [
    "# 2"
   ]
  },
  {
   "cell_type": "code",
   "execution_count": 236,
   "id": "a26d9441-5ab1-4087-b900-4cfc537fa1a7",
   "metadata": {},
   "outputs": [],
   "source": [
    "def find_Z(current_node, target_nodes, instruction_index):\n",
    "    \n",
    "    counter = 0\n",
    "    stop=False\n",
    "    results = []\n",
    "    all_in_list = False\n",
    "    limit = 100000\n",
    "    \n",
    "    while not stop:\n",
    "        \n",
    "        instruction = instructions[instruction_index]\n",
    "        current_node = get_next_node(current_node, instruction)\n",
    "        counter = counter+1\n",
    "        \n",
    "        # update the instruction index\n",
    "        instruction_index=instruction_index+1\n",
    "        if instruction_index==len(instructions):\n",
    "            instruction_index=0\n",
    "        \n",
    "        # determine if to stop\n",
    "        if set(target_nodes).intersection(set([i[1] for i in results]))==set(target_nodes) or counter>limit:\n",
    "            stop=True\n",
    "        else:\n",
    "            if current_node in target_nodes:\n",
    "                results.append((current_node,counter))\n",
    "            \n",
    "    return results"
   ]
  },
  {
   "cell_type": "code",
   "execution_count": 237,
   "id": "78a56409-654c-48e9-8308-6b7732e7e54e",
   "metadata": {},
   "outputs": [],
   "source": [
    "f = open(\"inputs/aoc8.txt\").read()\n",
    "instructions, first_nodes, search_nodes = make_data(f)"
   ]
  },
  {
   "cell_type": "code",
   "execution_count": 238,
   "id": "0505e293-d419-4653-a291-dc2ae4387ed6",
   "metadata": {},
   "outputs": [
    {
     "name": "stdout",
     "output_type": "stream",
     "text": [
      "['MSA', 'AAA', 'PKA', 'NBA', 'RHA', 'CDA'] ['LSZ', 'ZZZ', 'XHZ', 'FHZ', 'RQZ', 'LXZ']\n"
     ]
    }
   ],
   "source": [
    "nodes_A = [n for n in first_nodes if n[2]==\"A\"]\n",
    "nodes_Z = [n for n in first_nodes if n[2]==\"Z\"]\n",
    "print(nodes_A, nodes_Z)"
   ]
  },
  {
   "cell_type": "code",
   "execution_count": 239,
   "id": "dd6fa8d2-e0a6-4270-81e6-c3e91350004a",
   "metadata": {},
   "outputs": [],
   "source": [
    "from_a_to_z = list(product(nodes_A, nodes_Z))\n",
    "from_z_to_z = list(product(nodes_Z, nodes_Z))\n",
    "combis = from_a_to_z+from_z_to_z"
   ]
  },
  {
   "cell_type": "code",
   "execution_count": 242,
   "id": "adb80764-a7fd-4f78-b85c-66ae94fdb38f",
   "metadata": {},
   "outputs": [],
   "source": [
    "def compute_combis(combis):\n",
    "    data = defaultdict()\n",
    "\n",
    "    for combi in combis:\n",
    "        from_node=combi[0]\n",
    "        to_node=combi[1]\n",
    "        print(\"from: \", from_node, \" to:\", to_node)\n",
    "        if not from_node in data:\n",
    "            data[from_node]=defaultdict()\n",
    "        if not to_node in data[from_node]:\n",
    "            data[from_node][to_node] = defaultdict(list)\n",
    "        \n",
    "        for idx,instruction in enumerate(instructions[0:1]):            \n",
    "            instruction = instructions[idx]\n",
    "            \n",
    "            count_list = find_Z(from_node, [to_node], idx)\n",
    "            \n",
    "            if count_list==[]:\n",
    "                break\n",
    "            else:\n",
    "                data[from_node][to_node][idx]=count_list\n",
    "                if idx==len(instructions)-1:\n",
    "                    print(f\"Added counts for: {from_node} -> {to_node}\")\n",
    "    \n",
    "    with open(\"results.json\", \"w\") as outfile: \n",
    "        json.dump(dict(data), outfile)"
   ]
  },
  {
   "cell_type": "code",
   "execution_count": 243,
   "id": "ef9737a8-4878-46ae-9de8-fe87017ef6f6",
   "metadata": {},
   "outputs": [
    {
     "name": "stdout",
     "output_type": "stream",
     "text": [
      "from:  MSA  to: LSZ\n",
      "from:  MSA  to: ZZZ\n",
      "from:  MSA  to: XHZ\n",
      "from:  MSA  to: FHZ\n",
      "from:  MSA  to: RQZ\n",
      "from:  MSA  to: LXZ\n",
      "from:  AAA  to: LSZ\n",
      "from:  AAA  to: ZZZ\n",
      "from:  AAA  to: XHZ\n",
      "from:  AAA  to: FHZ\n",
      "from:  AAA  to: RQZ\n",
      "from:  AAA  to: LXZ\n",
      "from:  PKA  to: LSZ\n",
      "from:  PKA  to: ZZZ\n",
      "from:  PKA  to: XHZ\n",
      "from:  PKA  to: FHZ\n",
      "from:  PKA  to: RQZ\n",
      "from:  PKA  to: LXZ\n",
      "from:  NBA  to: LSZ\n",
      "from:  NBA  to: ZZZ\n",
      "from:  NBA  to: XHZ\n",
      "from:  NBA  to: FHZ\n",
      "from:  NBA  to: RQZ\n",
      "from:  NBA  to: LXZ\n",
      "from:  RHA  to: LSZ\n",
      "from:  RHA  to: ZZZ\n",
      "from:  RHA  to: XHZ\n",
      "from:  RHA  to: FHZ\n",
      "from:  RHA  to: RQZ\n",
      "from:  RHA  to: LXZ\n",
      "from:  CDA  to: LSZ\n",
      "from:  CDA  to: ZZZ\n",
      "from:  CDA  to: XHZ\n",
      "from:  CDA  to: FHZ\n",
      "from:  CDA  to: RQZ\n",
      "from:  CDA  to: LXZ\n",
      "from:  LSZ  to: LSZ\n",
      "from:  LSZ  to: ZZZ\n",
      "from:  LSZ  to: XHZ\n",
      "from:  LSZ  to: FHZ\n",
      "from:  LSZ  to: RQZ\n",
      "from:  LSZ  to: LXZ\n",
      "from:  ZZZ  to: LSZ\n",
      "from:  ZZZ  to: ZZZ\n",
      "from:  ZZZ  to: XHZ\n",
      "from:  ZZZ  to: FHZ\n",
      "from:  ZZZ  to: RQZ\n",
      "from:  ZZZ  to: LXZ\n",
      "from:  XHZ  to: LSZ\n",
      "from:  XHZ  to: ZZZ\n",
      "from:  XHZ  to: XHZ\n",
      "from:  XHZ  to: FHZ\n",
      "from:  XHZ  to: RQZ\n",
      "from:  XHZ  to: LXZ\n",
      "from:  FHZ  to: LSZ\n",
      "from:  FHZ  to: ZZZ\n",
      "from:  FHZ  to: XHZ\n",
      "from:  FHZ  to: FHZ\n",
      "from:  FHZ  to: RQZ\n",
      "from:  FHZ  to: LXZ\n",
      "from:  RQZ  to: LSZ\n",
      "from:  RQZ  to: ZZZ\n",
      "from:  RQZ  to: XHZ\n",
      "from:  RQZ  to: FHZ\n",
      "from:  RQZ  to: RQZ\n",
      "from:  RQZ  to: LXZ\n",
      "from:  LXZ  to: LSZ\n",
      "from:  LXZ  to: ZZZ\n",
      "from:  LXZ  to: XHZ\n",
      "from:  LXZ  to: FHZ\n",
      "from:  LXZ  to: RQZ\n",
      "from:  LXZ  to: LXZ\n"
     ]
    }
   ],
   "source": [
    "compute_combis(combis)"
   ]
  },
  {
   "cell_type": "code",
   "execution_count": 244,
   "id": "e4f2bb1e-ed49-4718-b228-69ba90778063",
   "metadata": {},
   "outputs": [],
   "source": [
    "with open(\"results.json\", \"r\") as outfile: \n",
    "    data = json.load(outfile)"
   ]
  },
  {
   "cell_type": "code",
   "execution_count": 245,
   "id": "2ec8bf3e-3136-4197-b0ee-c937f1115d93",
   "metadata": {},
   "outputs": [
    {
     "data": {
      "text/plain": [
       "{'MSA': {'LSZ': {},\n",
       "  'ZZZ': {},\n",
       "  'XHZ': {'0': [['XHZ', 14893],\n",
       "    ['XHZ', 29786],\n",
       "    ['XHZ', 44679],\n",
       "    ['XHZ', 59572],\n",
       "    ['XHZ', 74465],\n",
       "    ['XHZ', 89358]]},\n",
       "  'FHZ': {},\n",
       "  'RQZ': {},\n",
       "  'LXZ': {}},\n",
       " 'AAA': {'LSZ': {},\n",
       "  'ZZZ': {'0': [['ZZZ', 20513],\n",
       "    ['ZZZ', 41026],\n",
       "    ['ZZZ', 61539],\n",
       "    ['ZZZ', 82052]]},\n",
       "  'XHZ': {},\n",
       "  'FHZ': {},\n",
       "  'RQZ': {},\n",
       "  'LXZ': {}},\n",
       " 'PKA': {'LSZ': {},\n",
       "  'ZZZ': {},\n",
       "  'XHZ': {},\n",
       "  'FHZ': {'0': [['FHZ', 22199],\n",
       "    ['FHZ', 44398],\n",
       "    ['FHZ', 66597],\n",
       "    ['FHZ', 88796]]},\n",
       "  'RQZ': {},\n",
       "  'LXZ': {}},\n",
       " 'NBA': {'LSZ': {'0': [['LSZ', 19951],\n",
       "    ['LSZ', 39902],\n",
       "    ['LSZ', 59853],\n",
       "    ['LSZ', 79804],\n",
       "    ['LSZ', 99755]]},\n",
       "  'ZZZ': {},\n",
       "  'XHZ': {},\n",
       "  'FHZ': {},\n",
       "  'RQZ': {},\n",
       "  'LXZ': {}},\n",
       " 'RHA': {'LSZ': {},\n",
       "  'ZZZ': {},\n",
       "  'XHZ': {},\n",
       "  'FHZ': {},\n",
       "  'RQZ': {'0': [['RQZ', 17141],\n",
       "    ['RQZ', 34282],\n",
       "    ['RQZ', 51423],\n",
       "    ['RQZ', 68564],\n",
       "    ['RQZ', 85705]]},\n",
       "  'LXZ': {}},\n",
       " 'CDA': {'LSZ': {},\n",
       "  'ZZZ': {},\n",
       "  'XHZ': {},\n",
       "  'FHZ': {},\n",
       "  'RQZ': {},\n",
       "  'LXZ': {'0': [['LXZ', 12083],\n",
       "    ['LXZ', 24166],\n",
       "    ['LXZ', 36249],\n",
       "    ['LXZ', 48332],\n",
       "    ['LXZ', 60415],\n",
       "    ['LXZ', 72498],\n",
       "    ['LXZ', 84581],\n",
       "    ['LXZ', 96664]]}},\n",
       " 'LSZ': {'LSZ': {'0': [['LSZ', 19951],\n",
       "    ['LSZ', 39902],\n",
       "    ['LSZ', 59853],\n",
       "    ['LSZ', 79804],\n",
       "    ['LSZ', 99755]]},\n",
       "  'ZZZ': {},\n",
       "  'XHZ': {},\n",
       "  'FHZ': {},\n",
       "  'RQZ': {},\n",
       "  'LXZ': {}},\n",
       " 'ZZZ': {'LSZ': {},\n",
       "  'ZZZ': {'0': [['ZZZ', 20513],\n",
       "    ['ZZZ', 41026],\n",
       "    ['ZZZ', 61539],\n",
       "    ['ZZZ', 82052]]},\n",
       "  'XHZ': {},\n",
       "  'FHZ': {},\n",
       "  'RQZ': {},\n",
       "  'LXZ': {}},\n",
       " 'XHZ': {'LSZ': {},\n",
       "  'ZZZ': {},\n",
       "  'XHZ': {'0': [['XHZ', 14893],\n",
       "    ['XHZ', 29786],\n",
       "    ['XHZ', 44679],\n",
       "    ['XHZ', 59572],\n",
       "    ['XHZ', 74465],\n",
       "    ['XHZ', 89358]]},\n",
       "  'FHZ': {},\n",
       "  'RQZ': {},\n",
       "  'LXZ': {}},\n",
       " 'FHZ': {'LSZ': {},\n",
       "  'ZZZ': {},\n",
       "  'XHZ': {},\n",
       "  'FHZ': {'0': [['FHZ', 22199],\n",
       "    ['FHZ', 44398],\n",
       "    ['FHZ', 66597],\n",
       "    ['FHZ', 88796]]},\n",
       "  'RQZ': {},\n",
       "  'LXZ': {}},\n",
       " 'RQZ': {'LSZ': {},\n",
       "  'ZZZ': {},\n",
       "  'XHZ': {},\n",
       "  'FHZ': {},\n",
       "  'RQZ': {'0': [['RQZ', 17141],\n",
       "    ['RQZ', 34282],\n",
       "    ['RQZ', 51423],\n",
       "    ['RQZ', 68564],\n",
       "    ['RQZ', 85705]]},\n",
       "  'LXZ': {}},\n",
       " 'LXZ': {'LSZ': {},\n",
       "  'ZZZ': {},\n",
       "  'XHZ': {},\n",
       "  'FHZ': {},\n",
       "  'RQZ': {},\n",
       "  'LXZ': {'0': [['LXZ', 12083],\n",
       "    ['LXZ', 24166],\n",
       "    ['LXZ', 36249],\n",
       "    ['LXZ', 48332],\n",
       "    ['LXZ', 60415],\n",
       "    ['LXZ', 72498],\n",
       "    ['LXZ', 84581],\n",
       "    ['LXZ', 96664]]}}}"
      ]
     },
     "execution_count": 245,
     "metadata": {},
     "output_type": "execute_result"
    }
   ],
   "source": [
    "data"
   ]
  },
  {
   "cell_type": "code",
   "execution_count": 46,
   "id": "099d79e7-5a00-4b7c-925b-3532262723c3",
   "metadata": {},
   "outputs": [],
   "source": [
    "def all_equal(iterable):\n",
    "    g = groupby(iterable)\n",
    "    return next(g, True) and not next(g, False)"
   ]
  },
  {
   "cell_type": "code",
   "execution_count": 246,
   "id": "b719fc28-e829-4253-b2dc-34b675dd098c",
   "metadata": {},
   "outputs": [],
   "source": [
    "def get_closest_Z_node(current_index, current_node,data):\n",
    "    \"\"\"return the z-node and steps that can be reached with smallest number of steps from current_node,\n",
    "    given the current_index\"\"\" \n",
    "\n",
    "    d = data[current_node]\n",
    "    min_count=10000000000000\n",
    "    min_current_node = current_node\n",
    "    \n",
    "    for target_node in d.keys():\n",
    "        res=d[target_node][str(current_index)]\n",
    "        count=res[0]\n",
    "        node=res[1]\n",
    "        if count<min_count:\n",
    "            min_count = count\n",
    "            min_current_node = node\n",
    "    return min_count, min_current_node"
   ]
  },
  {
   "cell_type": "code",
   "execution_count": 433,
   "id": "02a00b8a-e578-4948-9124-f60622d289a5",
   "metadata": {},
   "outputs": [
    {
     "data": {
      "text/plain": [
       "(14893, 'XHZ')"
      ]
     },
     "execution_count": 433,
     "metadata": {},
     "output_type": "execute_result"
    }
   ],
   "source": [
    "get_closest_Z_node(14893%len(instructions),\"XHZ\",data)"
   ]
  },
  {
   "cell_type": "code",
   "execution_count": 152,
   "id": "100ac5f0-74ea-4503-a6a1-b3631aad30ff",
   "metadata": {},
   "outputs": [],
   "source": [
    "def make_distance_path(nodeA, data):\n",
    "    \n",
    "    current_node = nodeA\n",
    "    distance_path = []\n",
    "    current_index = 0\n",
    "    i=0\n",
    "    while i<5:\n",
    "        count, current_node = get_closest_Z_node(current_index, current_node,data)\n",
    "        current_index = get_idx(count)\n",
    "        distance_path.append(count)\n",
    "        i=i+1\n",
    "    return distance_path"
   ]
  },
  {
   "cell_type": "code",
   "execution_count": 153,
   "id": "4ffab20f-ee44-4c88-987a-8a2840e5d139",
   "metadata": {},
   "outputs": [],
   "source": [
    "def iterate(data):\n",
    "    \n",
    "    results = []\n",
    "    s = set()\n",
    "    for nodeA in nodes_A:\n",
    "        p = make_distance_path(nodeA,data)\n",
    "        a = np.array(p).cumsum()\n",
    "        results.append(a)\n",
    "    \n",
    "    return results\n",
    "    "
   ]
  },
  {
   "cell_type": "code",
   "execution_count": 154,
   "id": "c84795cb-3aaf-49ef-9976-0e96228c0515",
   "metadata": {},
   "outputs": [],
   "source": [
    "results =iterate(data)"
   ]
  },
  {
   "cell_type": "code",
   "execution_count": 155,
   "id": "36608e36-6086-4414-a8ec-deef58f4fc1b",
   "metadata": {},
   "outputs": [
    {
     "data": {
      "text/plain": [
       "[array([14893, 29786, 44679, 59572, 74465]),\n",
       " array([ 20513,  41026,  61539,  82052, 102565]),\n",
       " array([ 22199,  44398,  66597,  88796, 110995]),\n",
       " array([19951, 39902, 59853, 79804, 99755]),\n",
       " array([17141, 34282, 51423, 68564, 85705]),\n",
       " array([12083, 24166, 36249, 48332, 60415])]"
      ]
     },
     "execution_count": 155,
     "metadata": {},
     "output_type": "execute_result"
    }
   ],
   "source": [
    "results"
   ]
  },
  {
   "cell_type": "code",
   "execution_count": null,
   "id": "437c9a2b-ece9-4cf2-a935-c7c75917c9e5",
   "metadata": {},
   "outputs": [],
   "source": [
    "a=[0,2,4,6,8]\n",
    "b"
   ]
  },
  {
   "cell_type": "code",
   "execution_count": 115,
   "id": "a3c412d9-b527-4d2b-8c2a-f093ada59ba3",
   "metadata": {},
   "outputs": [
    {
     "data": {
      "text/plain": [
       "['MSA', 'AAA', 'PKA', 'NBA', 'RHA', 'CDA']"
      ]
     },
     "execution_count": 115,
     "metadata": {},
     "output_type": "execute_result"
    }
   ],
   "source": [
    "nodes_A"
   ]
  },
  {
   "cell_type": "code",
   "execution_count": 131,
   "id": "4c80491e-680a-40a6-8176-d0bdf24c6f1f",
   "metadata": {},
   "outputs": [
    {
     "name": "stdout",
     "output_type": "stream",
     "text": [
      "MSA XHZ\n",
      "AAA ZZZ\n",
      "PKA FHZ\n",
      "NBA LSZ\n",
      "RHA RQZ\n",
      "CDA LXZ\n"
     ]
    }
   ],
   "source": [
    "for i,nodeA in enumerate(nodes_A):\n",
    "    steps = list(results[i])[10]\n",
    "    print(nodeA, test_outcome(nodes_A[i],steps))"
   ]
  },
  {
   "cell_type": "code",
   "execution_count": 248,
   "id": "f160242f-ed3c-405a-8c54-17ff75f36175",
   "metadata": {},
   "outputs": [],
   "source": [
    "from math import lcm"
   ]
  },
  {
   "cell_type": "code",
   "execution_count": 250,
   "id": "cb7a8068-3c2f-4036-b11c-1f0569b92e64",
   "metadata": {},
   "outputs": [
    {
     "data": {
      "text/plain": [
       "15995167053923"
      ]
     },
     "execution_count": 250,
     "metadata": {},
     "output_type": "execute_result"
    }
   ],
   "source": [
    "lcm(*[14893,20513,22199,19951,17141,12083])"
   ]
  },
  {
   "cell_type": "code",
   "execution_count": null,
   "id": "c8fad8cd-4999-426e-8463-48955c0172ad",
   "metadata": {},
   "outputs": [],
   "source": []
  }
 ],
 "metadata": {
  "kernelspec": {
   "display_name": "Python 3 (ipykernel)",
   "language": "python",
   "name": "python3"
  },
  "language_info": {
   "codemirror_mode": {
    "name": "ipython",
    "version": 3
   },
   "file_extension": ".py",
   "mimetype": "text/x-python",
   "name": "python",
   "nbconvert_exporter": "python",
   "pygments_lexer": "ipython3",
   "version": "3.11.0"
  }
 },
 "nbformat": 4,
 "nbformat_minor": 5
}
