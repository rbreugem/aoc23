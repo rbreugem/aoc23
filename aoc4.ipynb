{
 "cells": [
  {
   "cell_type": "code",
   "execution_count": 1,
   "id": "b6aa2128-4423-457b-9ba1-0220c347ae95",
   "metadata": {},
   "outputs": [],
   "source": [
    "import re\n",
    "import numpy as np"
   ]
  },
  {
   "cell_type": "code",
   "execution_count": 2,
   "id": "7a47819c-ae13-494a-82ae-9b96b509d823",
   "metadata": {},
   "outputs": [],
   "source": [
    "with open(\"aoc4.txt\") as f:\n",
    "    l = f.read().splitlines()"
   ]
  },
  {
   "cell_type": "markdown",
   "id": "af501789-4586-4986-b762-6dffbc50f2a1",
   "metadata": {},
   "source": [
    "# 1"
   ]
  },
  {
   "cell_type": "code",
   "execution_count": 3,
   "id": "74b43bb8-b29a-4537-bd9f-bf4716b7d677",
   "metadata": {},
   "outputs": [],
   "source": [
    "def parse(l):\n",
    "    winning_numbers = [i.split(\":\")[1].split(\"|\")[0].strip().split() for i in l]\n",
    "    my_numbers = [i.split(\":\")[1].split(\"|\")[1].strip().split() for i in l]\n",
    "    return winning_numbers, my_numbers"
   ]
  },
  {
   "cell_type": "code",
   "execution_count": 4,
   "id": "95f01c04-2287-468f-b8f5-59b26e88dcce",
   "metadata": {},
   "outputs": [],
   "source": [
    "winning, mine = parse(l)"
   ]
  },
  {
   "cell_type": "code",
   "execution_count": 5,
   "id": "b8a3905e-f292-49c1-ab03-c70e90a2f314",
   "metadata": {},
   "outputs": [],
   "source": [
    "def compute_points(w, m):\n",
    "    points = 0\n",
    "    first_match = True\n",
    "    for i, mn in enumerate(m):\n",
    "        if mn in w:\n",
    "            if first_match:\n",
    "                points +=1\n",
    "                first_match = False\n",
    "                \n",
    "            else: \n",
    "                points *=2\n",
    "    return points"
   ]
  },
  {
   "cell_type": "code",
   "execution_count": 6,
   "id": "c2bca46c-b929-4229-963a-dec3df2348fb",
   "metadata": {},
   "outputs": [],
   "source": [
    "numbers = zip(winning, mine)"
   ]
  },
  {
   "cell_type": "code",
   "execution_count": 7,
   "id": "a481f428-e74c-4858-a0cf-06e84e6969c1",
   "metadata": {},
   "outputs": [],
   "source": [
    "total = 0\n",
    "for n in numbers:\n",
    "    total = total + compute_points(n[0], n[1])"
   ]
  },
  {
   "cell_type": "code",
   "execution_count": 8,
   "id": "fc1ebe5e-7bfa-46bc-b4ed-00a55b8ce641",
   "metadata": {},
   "outputs": [
    {
     "data": {
      "text/plain": [
       "26426"
      ]
     },
     "execution_count": 8,
     "metadata": {},
     "output_type": "execute_result"
    }
   ],
   "source": [
    "total"
   ]
  },
  {
   "cell_type": "markdown",
   "id": "336bb0c5-e9b2-4d13-9694-b61cd1a05078",
   "metadata": {},
   "source": [
    "# 2"
   ]
  },
  {
   "cell_type": "code",
   "execution_count": 42,
   "id": "29b5913f-d893-4506-aae9-74a727ea48d3",
   "metadata": {},
   "outputs": [],
   "source": [
    "test = \"\"\"Card 1: 41 48 83 86 17 | 83 86  6 31 17  9 48 53\n",
    "Card 2: 13 32 20 16 61 | 61 30 68 82 17 32 24 19\n",
    "Card 3:  1 21 53 59 44 | 69 82 63 72 16 21 14  1\n",
    "Card 4: 41 92 73 84 69 | 59 84 76 51 58  5 54 83\n",
    "Card 5: 87 83 26 28 32 | 88 30 70 12 93 22 82 36\n",
    "Card 6: 31 18 13 56 72 | 74 77 10 23 35 67 36 11\n",
    "\"\"\"\n",
    "test_l = test.splitlines()"
   ]
  },
  {
   "cell_type": "code",
   "execution_count": 9,
   "id": "79b00e74-0e9f-42b5-9d52-c7cf9d39cd48",
   "metadata": {},
   "outputs": [],
   "source": [
    "from collections import Counter"
   ]
  },
  {
   "cell_type": "code",
   "execution_count": 45,
   "id": "32bc1ec1-9644-4ae5-afb3-c7fc8431a6d5",
   "metadata": {},
   "outputs": [],
   "source": [
    "def get_numbers(card_id, l):\n",
    "    \n",
    "    winning, mine = parse(l)\n",
    "    w = winning[card_id-1]\n",
    "    m = mine[card_id-1]\n",
    "    \n",
    "    copy_numbers = []\n",
    "    for i, mn in enumerate(m):\n",
    "        if mn in w:\n",
    "            copy_numbers.append(mn)           \n",
    "    \n",
    "    card_ids = [(card_id + i) for i in np.arange(1, len(copy_numbers)+1)] \n",
    "    d = Counter()\n",
    "    for id in card_ids:\n",
    "        d[id]=1\n",
    "    return d"
   ]
  },
  {
   "cell_type": "code",
   "execution_count": 65,
   "id": "21259e85-391e-41aa-904f-9b6f984771cc",
   "metadata": {},
   "outputs": [],
   "source": [
    "def compute_total(l):\n",
    "    cards = Counter({i+1:1 for i in np.arange(0,len(l))})\n",
    "    \n",
    "    for card_id in np.arange(1,len(l)+1):\n",
    "        \n",
    "        # get number of copies of this card-id\n",
    "        num_copies = cards[card_id]\n",
    "        \n",
    "        # get numbers to update\n",
    "        numbers = get_numbers(card_id, l)\n",
    "        new_numbers=[]\n",
    "        for x in np.arange(0, num_copies):\n",
    "            for n in numbers:\n",
    "                new_numbers.append(n)\n",
    "        \n",
    "        for n in new_numbers:\n",
    "            cards[n]=cards[n]+1\n",
    "\n",
    "    return cards"
   ]
  },
  {
   "cell_type": "code",
   "execution_count": 66,
   "id": "a06a2714-8ef7-4cef-9151-d306581f68e7",
   "metadata": {},
   "outputs": [
    {
     "data": {
      "text/plain": [
       "Counter({3: 2, 4: 3, 5: 3, 6: 3, 7: 3, 8: 3, 9: 2, 10: 2})"
      ]
     },
     "execution_count": 66,
     "metadata": {},
     "output_type": "execute_result"
    }
   ],
   "source": [
    "get_numbers(2, l)+get_numbers(2, l)+get_numbers(3, l)"
   ]
  },
  {
   "cell_type": "code",
   "execution_count": 67,
   "id": "96530fed-e6da-47dd-9134-1258e4882cc3",
   "metadata": {},
   "outputs": [
    {
     "data": {
      "text/plain": [
       "6227972"
      ]
     },
     "execution_count": 67,
     "metadata": {},
     "output_type": "execute_result"
    }
   ],
   "source": [
    "compute_total(l).total()"
   ]
  },
  {
   "cell_type": "code",
   "execution_count": null,
   "id": "5a275d8b-7d36-412f-8dde-fb0c886130ef",
   "metadata": {},
   "outputs": [],
   "source": []
  }
 ],
 "metadata": {
  "kernelspec": {
   "display_name": "Python 3 (ipykernel)",
   "language": "python",
   "name": "python3"
  },
  "language_info": {
   "codemirror_mode": {
    "name": "ipython",
    "version": 3
   },
   "file_extension": ".py",
   "mimetype": "text/x-python",
   "name": "python",
   "nbconvert_exporter": "python",
   "pygments_lexer": "ipython3",
   "version": "3.11.0"
  }
 },
 "nbformat": 4,
 "nbformat_minor": 5
}
