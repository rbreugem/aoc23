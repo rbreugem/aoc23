{
 "cells": [
  {
   "cell_type": "code",
   "execution_count": 1,
   "id": "b6aa2128-4423-457b-9ba1-0220c347ae95",
   "metadata": {},
   "outputs": [],
   "source": [
    "from collections import defaultdict, Counter, OrderedDict\n",
    "import numpy as np"
   ]
  },
  {
   "cell_type": "code",
   "execution_count": null,
   "id": "e4f7ad8b-115d-40ca-a2ce-aa9ad243ff21",
   "metadata": {},
   "outputs": [],
   "source": []
  },
  {
   "cell_type": "code",
   "execution_count": 2,
   "id": "66fe7080-19e5-4286-aef6-7cab08f4c9f5",
   "metadata": {},
   "outputs": [],
   "source": [
    "f = open(\"inputs/aoc7.txt\").read()\n",
    "hands = [s.split(\" \") for s in f.splitlines()]\n",
    "hands = [(i[0], int(i[1])) for i in hands]"
   ]
  },
  {
   "cell_type": "code",
   "execution_count": 3,
   "id": "f326387f-87bb-4499-81b7-c0b60705bc03",
   "metadata": {},
   "outputs": [
    {
     "data": {
      "text/plain": [
       "[('8T64Q', 595), ('79J27', 258), ('88885', 88), ('8933J', 444), ('72527', 676)]"
      ]
     },
     "execution_count": 3,
     "metadata": {},
     "output_type": "execute_result"
    }
   ],
   "source": [
    "hands[0:5]"
   ]
  },
  {
   "cell_type": "code",
   "execution_count": 4,
   "id": "4b878e9a-4323-4708-810f-644599dc8564",
   "metadata": {},
   "outputs": [],
   "source": [
    "#\n",
    "points = OrderedDict({\n",
    "    'five' : 1000000e5,\n",
    "    'four' : 100000e5,\n",
    "    'full_house':10000e5,\n",
    "    'three' : 1000e5,\n",
    "    'two_pair': 100e5,\n",
    "    'one_pair' : 10e5,\n",
    "    'high' : 1e5})\n"
   ]
  },
  {
   "cell_type": "markdown",
   "id": "bb47dd9a-9d5a-43bf-a8cd-ff75faf0301d",
   "metadata": {},
   "source": [
    "# 1"
   ]
  },
  {
   "cell_type": "code",
   "execution_count": 5,
   "id": "e133dba2-bc6a-480a-93e5-544530a32677",
   "metadata": {},
   "outputs": [],
   "source": [
    "cards = [\"A\", \"K\", \"Q\", \"J\", \"T\", \"9\", \"8\", \"7\", \"6\", \"5\", \"4\", \"3\",\"2\"]\n",
    "\n",
    "def assign_string(hand, cards_order):\n",
    "    abc = 'abcdefghijklmnopqrstuvwxyz'\n",
    "    new_string = \"\"\n",
    "    for card in hand:\n",
    "        new_string=new_string+abc[cards_order.index(card)]       \n",
    "    return new_string"
   ]
  },
  {
   "cell_type": "code",
   "execution_count": 6,
   "id": "eee6f145-4a93-4fd7-aeee-2c2b4d58bd6b",
   "metadata": {},
   "outputs": [
    {
     "data": {
      "text/plain": [
       "'ggggj'"
      ]
     },
     "execution_count": 6,
     "metadata": {},
     "output_type": "execute_result"
    }
   ],
   "source": [
    "assign_string(\"88885\", cards)"
   ]
  },
  {
   "cell_type": "code",
   "execution_count": 7,
   "id": "2767be91-c03d-400f-97c8-b79b627494c8",
   "metadata": {},
   "outputs": [],
   "source": [
    "def hand_type(hand):\n",
    "    \n",
    "    c=Counter()\n",
    "    for card in hand:\n",
    "        c[card]+=1\n",
    "    \n",
    "    # five\n",
    "    if len(c)==1:\n",
    "        ht = \"five\"\n",
    "    \n",
    "    any_four = any([cnt==4 for cnt in c.values()])\n",
    "    if any_four:\n",
    "        ht=\"four\"\n",
    "        \n",
    "    any_three = any([cnt==3 for cnt in c.values()])\n",
    "    if any_three and len(c)==2:\n",
    "        ht= \"full_house\"\n",
    "    \n",
    "    if any_three and len(c)>2:\n",
    "        ht=\"three\"\n",
    "    \n",
    "    any_two = any([cnt==2 for cnt in c.values()])\n",
    "    if any_two and len(c)==3:\n",
    "        ht=\"two_pair\"\n",
    "        \n",
    "    if any_two and len(c)==4:\n",
    "        ht=\"one_pair\"\n",
    "    if len(c)==5:\n",
    "        ht=\"high\" \n",
    "    return ht"
   ]
  },
  {
   "cell_type": "code",
   "execution_count": 8,
   "id": "3b91c0e9-0372-482e-9eba-90a5cbaee612",
   "metadata": {},
   "outputs": [],
   "source": [
    "def compute_sum(hands, cards_order):\n",
    "    \n",
    "    # first order hands by by handtype\n",
    "    groups = defaultdict(list)\n",
    "    for hand_data in hands:\n",
    "        #print(hand)\n",
    "        ht = hand_type(hand_data[0])\n",
    "        groups[ht].append(hand_data)\n",
    "\n",
    "    # assign strings that allow ordering of equal handtypes\n",
    "    new_groups = defaultdict(list)\n",
    "    for ht, hands in groups.items():\n",
    "        new_strings = [(hand_data[0],assign_string(hand_data[0], \n",
    "                                                   cards_order=cards_order),hand_data[1]) for hand_data in hands]\n",
    "        new_strings.sort(key=lambda x:x[1])\n",
    "        new_groups[ht]=new_strings\n",
    "    \n",
    "    # order by stringv\n",
    "    new_order = []\n",
    "    for k in points:\n",
    "        new_order.extend(new_groups[k])\n",
    "    new_order.reverse()\n",
    "    \n",
    "    # sum up\n",
    "    som = 0\n",
    "    for idx,data in enumerate(new_order):\n",
    "        rank = idx+1\n",
    "        som = som + data[2]*rank\n",
    "    return som"
   ]
  },
  {
   "cell_type": "code",
   "execution_count": 9,
   "id": "11f0c897-8972-4657-8dea-b993460ca239",
   "metadata": {},
   "outputs": [
    {
     "data": {
      "text/plain": [
       "250474325"
      ]
     },
     "execution_count": 9,
     "metadata": {},
     "output_type": "execute_result"
    }
   ],
   "source": [
    "compute_sum(hands, cards_order=cards)"
   ]
  },
  {
   "cell_type": "markdown",
   "id": "76c988cc-ebe6-4b54-b3ef-a7d5311b4ed6",
   "metadata": {},
   "source": [
    "# 2"
   ]
  },
  {
   "cell_type": "code",
   "execution_count": 10,
   "id": "98a766e2-8cb2-4a36-8dc4-9114ecfa170f",
   "metadata": {},
   "outputs": [],
   "source": [
    "new_cards_order = [\"A\", \"K\", \"Q\", \"T\", \"9\", \"8\", \"7\", \"6\", \"5\", \"4\", \"3\",\"2\",\"J\"]"
   ]
  },
  {
   "cell_type": "code",
   "execution_count": 11,
   "id": "284cbd5b-c3b5-4392-a1f7-923acc0d9d8b",
   "metadata": {},
   "outputs": [],
   "source": [
    "from itertools import product"
   ]
  },
  {
   "cell_type": "code",
   "execution_count": 12,
   "id": "647f06c4-0cbe-480b-b197-815ec6f17d86",
   "metadata": {},
   "outputs": [],
   "source": [
    "def swap_characters(hand, tuple, indices):\n",
    "    for idx,position in enumerate(indices):\n",
    "        hand = list(hand)\n",
    "        hand[position]=tuple[idx]\n",
    "        hand=\"\".join(hand)\n",
    "    return hand"
   ]
  },
  {
   "cell_type": "code",
   "execution_count": 13,
   "id": "fa2e3450-9204-4acd-b1bb-e6a13260a1fb",
   "metadata": {},
   "outputs": [
    {
     "data": {
      "text/plain": [
       "'AXCZE'"
      ]
     },
     "execution_count": 13,
     "metadata": {},
     "output_type": "execute_result"
    }
   ],
   "source": [
    "swap_characters(\"ABCDE\", (\"Z\",\"X\"),[3,1])"
   ]
  },
  {
   "cell_type": "code",
   "execution_count": 14,
   "id": "8c28bcc5-f8a5-42ce-8646-66f5b40da95b",
   "metadata": {},
   "outputs": [],
   "source": [
    "def generate_hands(hand):\n",
    "    \n",
    "    num_J = hand.count(\"J\")\n",
    "    perms = list(product(cards,repeat=num_J)) \n",
    "    new_hands = []\n",
    "    positions_with_J=[]\n",
    "    for idx, card in enumerate(hand):\n",
    "        if card==\"J\":\n",
    "            positions_with_J.append(idx)\n",
    "    \n",
    "    for combi in perms:\n",
    "        new_hand = swap_characters(hand, tuple=combi, indices=positions_with_J)\n",
    "        new_hands.append(new_hand)\n",
    "\n",
    "    return new_hands"
   ]
  },
  {
   "cell_type": "code",
   "execution_count": 18,
   "id": "f941b627-263c-4aba-b1db-320b92d01bdb",
   "metadata": {},
   "outputs": [],
   "source": [
    "from copy import copy\n",
    "\n",
    "def get_highest_hand_type(hand):\n",
    "    \n",
    "    best_hand = hand\n",
    "    best_ht = hand_type(hand)\n",
    "    best_points = points[best_ht]\n",
    "    \n",
    "    if \"J\" in hand:\n",
    "        new_hands = generate_hands(hand)\n",
    "        for new_hand in new_hands:\n",
    "            \n",
    "            ht_new_hand = hand_type(new_hand)\n",
    "            points_new_hand = points[ht_new_hand]\n",
    "            if points_new_hand>best_points:\n",
    "                best_hand = new_hand\n",
    "                best_ht = ht_new_hand\n",
    "                best_points = points_new_hand\n",
    "\n",
    "            else:\n",
    "                continue\n",
    "    return best_ht\n",
    "                    "
   ]
  },
  {
   "cell_type": "code",
   "execution_count": 19,
   "id": "3553adba-14e5-4200-83d0-0d10854f25f2",
   "metadata": {},
   "outputs": [],
   "source": [
    "def compute_sum(hands, cards_order):\n",
    "    \n",
    "    # first order hands by by handtype\n",
    "    groups = defaultdict(list)\n",
    "    for hand_data in hands:\n",
    "        #print(hand)\n",
    "        ht = get_highest_hand_type(hand_data[0])\n",
    "        groups[ht].append(hand_data)\n",
    "\n",
    "    # assign strings that allow ordering of equal handtypes\n",
    "    new_groups = defaultdict(list)\n",
    "    for ht, hands in groups.items():\n",
    "        new_strings = [(hand_data[0],assign_string(hand_data[0], \n",
    "                                                   cards_order=cards_order),hand_data[1]) for hand_data in hands]\n",
    "        new_strings.sort(key=lambda x:x[1])\n",
    "        new_groups[ht]=new_strings\n",
    "    \n",
    "    # order by stringv\n",
    "    new_order = []\n",
    "    for k in points:\n",
    "        new_order.extend(new_groups[k])\n",
    "    new_order.reverse()\n",
    "    \n",
    "    # sum up\n",
    "    som = 0\n",
    "    for idx,data in enumerate(new_order):\n",
    "        rank = idx+1\n",
    "        som = som + data[2]*rank\n",
    "    return som"
   ]
  },
  {
   "cell_type": "code",
   "execution_count": 20,
   "id": "42e14851-e707-4dd7-8629-41d60fe3dae6",
   "metadata": {},
   "outputs": [
    {
     "data": {
      "text/plain": [
       "248909434"
      ]
     },
     "execution_count": 20,
     "metadata": {},
     "output_type": "execute_result"
    }
   ],
   "source": [
    "compute_sum(hands, cards_order=new_cards_order)"
   ]
  },
  {
   "cell_type": "code",
   "execution_count": null,
   "id": "bcd6690f-a24f-42dc-9f8f-3673af500bf2",
   "metadata": {},
   "outputs": [],
   "source": []
  }
 ],
 "metadata": {
  "kernelspec": {
   "display_name": "Python 3 (ipykernel)",
   "language": "python",
   "name": "python3"
  },
  "language_info": {
   "codemirror_mode": {
    "name": "ipython",
    "version": 3
   },
   "file_extension": ".py",
   "mimetype": "text/x-python",
   "name": "python",
   "nbconvert_exporter": "python",
   "pygments_lexer": "ipython3",
   "version": "3.11.0"
  }
 },
 "nbformat": 4,
 "nbformat_minor": 5
}
